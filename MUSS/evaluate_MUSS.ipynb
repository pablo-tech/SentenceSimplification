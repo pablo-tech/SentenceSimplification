{
  "cells": [
    {
      "cell_type": "code",
      "execution_count": 1,
      "metadata": {
        "colab": {
          "base_uri": "https://localhost:8080/"
        },
        "id": "FEn_Wlq8lud7",
        "outputId": "cb9fddda-3a5c-485c-f099-1032de3967cc"
      },
      "outputs": [
        {
          "output_type": "stream",
          "name": "stdout",
          "text": [
            "Cloning into 'easse'...\n",
            "remote: Enumerating objects: 1937, done.\u001b[K\n",
            "remote: Counting objects: 100% (504/504), done.\u001b[K\n",
            "remote: Compressing objects: 100% (303/303), done.\u001b[K\n",
            "remote: Total 1937 (delta 289), reused 347 (delta 194), pack-reused 1433\u001b[K\n",
            "Receiving objects: 100% (1937/1937), 33.79 MiB | 14.00 MiB/s, done.\n",
            "Resolving deltas: 100% (1162/1162), done.\n",
            "/content/easse\n",
            "Obtaining file:///content/easse\n",
            "Collecting tseval@ git+https://github.com/facebookresearch/text-simplification-evaluation.git\n",
            "  Cloning https://github.com/facebookresearch/text-simplification-evaluation.git to /tmp/pip-install-a6bm_ond/tseval_e5e76f1128ba48c99eeca06af1bf158b\n",
            "  Running command git clone -q https://github.com/facebookresearch/text-simplification-evaluation.git /tmp/pip-install-a6bm_ond/tseval_e5e76f1128ba48c99eeca06af1bf158b\n",
            "Collecting simalign@ git+https://github.com/cisnlp/simalign.git\n",
            "  Cloning https://github.com/cisnlp/simalign.git to /tmp/pip-install-a6bm_ond/simalign_4c73096224fe4981b6d8c255410eda60\n",
            "  Running command git clone -q https://github.com/cisnlp/simalign.git /tmp/pip-install-a6bm_ond/simalign_4c73096224fe4981b6d8c255410eda60\n",
            "  Installing build dependencies ... \u001b[?25l\u001b[?25hdone\n",
            "  Getting requirements to build wheel ... \u001b[?25l\u001b[?25hdone\n",
            "    Preparing wheel metadata ... \u001b[?25l\u001b[?25hdone\n",
            "Requirement already satisfied: click in /usr/local/lib/python3.7/dist-packages (from easse==0.2.4) (7.1.2)\n",
            "Requirement already satisfied: matplotlib in /usr/local/lib/python3.7/dist-packages (from easse==0.2.4) (3.2.2)\n",
            "Collecting nltk>=3.6.5\n",
            "  Downloading nltk-3.6.7-py3-none-any.whl (1.5 MB)\n",
            "\u001b[K     |████████████████████████████████| 1.5 MB 4.3 MB/s \n",
            "\u001b[?25hRequirement already satisfied: numpy in /usr/local/lib/python3.7/dist-packages (from easse==0.2.4) (1.19.5)\n",
            "Requirement already satisfied: pandas in /usr/local/lib/python3.7/dist-packages (from easse==0.2.4) (1.1.5)\n",
            "Requirement already satisfied: requests>=2.21.0 in /usr/local/lib/python3.7/dist-packages (from easse==0.2.4) (2.23.0)\n",
            "Collecting sacrebleu>=2.0.0\n",
            "  Downloading sacrebleu-2.0.0-py3-none-any.whl (90 kB)\n",
            "\u001b[K     |████████████████████████████████| 90 kB 9.3 MB/s \n",
            "\u001b[?25hCollecting sacremoses\n",
            "  Downloading sacremoses-0.0.46-py3-none-any.whl (895 kB)\n",
            "\u001b[K     |████████████████████████████████| 895 kB 43.4 MB/s \n",
            "\u001b[?25hRequirement already satisfied: seaborn in /usr/local/lib/python3.7/dist-packages (from easse==0.2.4) (0.11.2)\n",
            "Requirement already satisfied: sklearn in /usr/local/lib/python3.7/dist-packages (from easse==0.2.4) (0.0)\n",
            "Collecting stanfordnlp\n",
            "  Downloading stanfordnlp-0.2.0-py3-none-any.whl (158 kB)\n",
            "\u001b[K     |████████████████████████████████| 158 kB 49.5 MB/s \n",
            "\u001b[?25hRequirement already satisfied: tqdm>=4.32.2 in /usr/local/lib/python3.7/dist-packages (from easse==0.2.4) (4.62.3)\n",
            "Collecting yattag\n",
            "  Downloading yattag-1.14.0.tar.gz (26 kB)\n",
            "Requirement already satisfied: plotly>=4.0.0 in /usr/local/lib/python3.7/dist-packages (from easse==0.2.4) (4.4.1)\n",
            "Collecting bert_score\n",
            "  Downloading bert_score-0.3.11-py3-none-any.whl (60 kB)\n",
            "\u001b[K     |████████████████████████████████| 60 kB 6.5 MB/s \n",
            "\u001b[?25hRequirement already satisfied: torch in /usr/local/lib/python3.7/dist-packages (from simalign@ git+https://github.com/cisnlp/simalign.git->easse==0.2.4) (1.10.0+cu111)\n",
            "Requirement already satisfied: scipy in /usr/local/lib/python3.7/dist-packages (from simalign@ git+https://github.com/cisnlp/simalign.git->easse==0.2.4) (1.4.1)\n",
            "Collecting transformers\n",
            "  Downloading transformers-4.15.0-py3-none-any.whl (3.4 MB)\n",
            "\u001b[K     |████████████████████████████████| 3.4 MB 38.7 MB/s \n",
            "\u001b[?25hRequirement already satisfied: scikit-learn in /usr/local/lib/python3.7/dist-packages (from simalign@ git+https://github.com/cisnlp/simalign.git->easse==0.2.4) (1.0.1)\n",
            "Collecting networkx==2.4\n",
            "  Downloading networkx-2.4-py3-none-any.whl (1.6 MB)\n",
            "\u001b[K     |████████████████████████████████| 1.6 MB 44.2 MB/s \n",
            "\u001b[?25hRequirement already satisfied: regex in /usr/local/lib/python3.7/dist-packages (from simalign@ git+https://github.com/cisnlp/simalign.git->easse==0.2.4) (2019.12.20)\n",
            "Collecting python-Levenshtein\n",
            "  Downloading python-Levenshtein-0.12.2.tar.gz (50 kB)\n",
            "\u001b[K     |████████████████████████████████| 50 kB 6.4 MB/s \n",
            "\u001b[?25hCollecting gitpython\n",
            "  Downloading GitPython-3.1.25-py3-none-any.whl (180 kB)\n",
            "\u001b[K     |████████████████████████████████| 180 kB 50.6 MB/s \n",
            "\u001b[?25hRequirement already satisfied: decorator>=4.3.0 in /usr/local/lib/python3.7/dist-packages (from networkx==2.4->simalign@ git+https://github.com/cisnlp/simalign.git->easse==0.2.4) (4.4.2)\n",
            "Collecting regex\n",
            "  Downloading regex-2021.11.10-cp37-cp37m-manylinux_2_17_x86_64.manylinux2014_x86_64.whl (749 kB)\n",
            "\u001b[K     |████████████████████████████████| 749 kB 51.8 MB/s \n",
            "\u001b[?25hRequirement already satisfied: joblib in /usr/local/lib/python3.7/dist-packages (from nltk>=3.6.5->easse==0.2.4) (1.1.0)\n",
            "Requirement already satisfied: retrying>=1.3.3 in /usr/local/lib/python3.7/dist-packages (from plotly>=4.0.0->easse==0.2.4) (1.3.3)\n",
            "Requirement already satisfied: six in /usr/local/lib/python3.7/dist-packages (from plotly>=4.0.0->easse==0.2.4) (1.15.0)\n",
            "Requirement already satisfied: certifi>=2017.4.17 in /usr/local/lib/python3.7/dist-packages (from requests>=2.21.0->easse==0.2.4) (2021.10.8)\n",
            "Requirement already satisfied: urllib3!=1.25.0,!=1.25.1,<1.26,>=1.21.1 in /usr/local/lib/python3.7/dist-packages (from requests>=2.21.0->easse==0.2.4) (1.24.3)\n",
            "Requirement already satisfied: idna<3,>=2.5 in /usr/local/lib/python3.7/dist-packages (from requests>=2.21.0->easse==0.2.4) (2.10)\n",
            "Requirement already satisfied: chardet<4,>=3.0.2 in /usr/local/lib/python3.7/dist-packages (from requests>=2.21.0->easse==0.2.4) (3.0.4)\n",
            "Requirement already satisfied: tabulate>=0.8.9 in /usr/local/lib/python3.7/dist-packages (from sacrebleu>=2.0.0->easse==0.2.4) (0.8.9)\n",
            "Collecting portalocker\n",
            "  Downloading portalocker-2.3.2-py2.py3-none-any.whl (15 kB)\n",
            "Collecting colorama\n",
            "  Downloading colorama-0.4.4-py2.py3-none-any.whl (16 kB)\n",
            "Requirement already satisfied: packaging>=20.9 in /usr/local/lib/python3.7/dist-packages (from bert_score->easse==0.2.4) (21.3)\n",
            "Requirement already satisfied: pyparsing!=3.0.5,>=2.0.2 in /usr/local/lib/python3.7/dist-packages (from packaging>=20.9->bert_score->easse==0.2.4) (3.0.6)\n",
            "Requirement already satisfied: python-dateutil>=2.7.3 in /usr/local/lib/python3.7/dist-packages (from pandas->easse==0.2.4) (2.8.2)\n",
            "Requirement already satisfied: pytz>=2017.2 in /usr/local/lib/python3.7/dist-packages (from pandas->easse==0.2.4) (2018.9)\n",
            "Requirement already satisfied: typing-extensions in /usr/local/lib/python3.7/dist-packages (from torch->simalign@ git+https://github.com/cisnlp/simalign.git->easse==0.2.4) (3.10.0.2)\n",
            "Collecting huggingface-hub<1.0,>=0.1.0\n",
            "  Downloading huggingface_hub-0.2.1-py3-none-any.whl (61 kB)\n",
            "\u001b[K     |████████████████████████████████| 61 kB 488 kB/s \n",
            "\u001b[?25hRequirement already satisfied: importlib-metadata in /usr/local/lib/python3.7/dist-packages (from transformers->simalign@ git+https://github.com/cisnlp/simalign.git->easse==0.2.4) (4.8.2)\n",
            "Requirement already satisfied: filelock in /usr/local/lib/python3.7/dist-packages (from transformers->simalign@ git+https://github.com/cisnlp/simalign.git->easse==0.2.4) (3.4.0)\n",
            "Collecting tokenizers<0.11,>=0.10.1\n",
            "  Downloading tokenizers-0.10.3-cp37-cp37m-manylinux_2_5_x86_64.manylinux1_x86_64.manylinux_2_12_x86_64.manylinux2010_x86_64.whl (3.3 MB)\n",
            "\u001b[K     |████████████████████████████████| 3.3 MB 38.1 MB/s \n",
            "\u001b[?25hCollecting pyyaml>=5.1\n",
            "  Downloading PyYAML-6.0-cp37-cp37m-manylinux_2_5_x86_64.manylinux1_x86_64.manylinux_2_12_x86_64.manylinux2010_x86_64.whl (596 kB)\n",
            "\u001b[K     |████████████████████████████████| 596 kB 52.5 MB/s \n",
            "\u001b[?25hCollecting gitdb<5,>=4.0.1\n",
            "  Downloading gitdb-4.0.9-py3-none-any.whl (63 kB)\n",
            "\u001b[K     |████████████████████████████████| 63 kB 1.6 MB/s \n",
            "\u001b[?25hCollecting smmap<6,>=3.0.1\n",
            "  Downloading smmap-5.0.0-py3-none-any.whl (24 kB)\n",
            "Requirement already satisfied: zipp>=0.5 in /usr/local/lib/python3.7/dist-packages (from importlib-metadata->transformers->simalign@ git+https://github.com/cisnlp/simalign.git->easse==0.2.4) (3.6.0)\n",
            "Requirement already satisfied: cycler>=0.10 in /usr/local/lib/python3.7/dist-packages (from matplotlib->easse==0.2.4) (0.11.0)\n",
            "Requirement already satisfied: kiwisolver>=1.0.1 in /usr/local/lib/python3.7/dist-packages (from matplotlib->easse==0.2.4) (1.3.2)\n",
            "Requirement already satisfied: setuptools in /usr/local/lib/python3.7/dist-packages (from python-Levenshtein->tseval@ git+https://github.com/facebookresearch/text-simplification-evaluation.git->easse==0.2.4) (57.4.0)\n",
            "Requirement already satisfied: threadpoolctl>=2.0.0 in /usr/local/lib/python3.7/dist-packages (from scikit-learn->simalign@ git+https://github.com/cisnlp/simalign.git->easse==0.2.4) (3.0.0)\n",
            "Requirement already satisfied: protobuf in /usr/local/lib/python3.7/dist-packages (from stanfordnlp->easse==0.2.4) (3.17.3)\n",
            "Building wheels for collected packages: simalign, tseval, python-Levenshtein, yattag\n",
            "  Building wheel for simalign (PEP 517) ... \u001b[?25l\u001b[?25hdone\n",
            "  Created wheel for simalign: filename=simalign-0.3-py3-none-any.whl size=8101 sha256=34ccd1b401e32299527ab73212c46eb8047eaa9fe6a17fe4aaec7e7b175591c9\n",
            "  Stored in directory: /tmp/pip-ephem-wheel-cache-oudj56k0/wheels/7c/fd/e8/feb79b708710c76e78b833a417552cadc858dd3d2ee5897585\n",
            "  Building wheel for tseval (setup.py) ... \u001b[?25l\u001b[?25hdone\n",
            "  Created wheel for tseval: filename=tseval-1.0-py3-none-any.whl size=8536656 sha256=c689a3be8a35a5ff28fda9511934a70b210a519be0c282814e64627af8281005\n",
            "  Stored in directory: /tmp/pip-ephem-wheel-cache-oudj56k0/wheels/c8/9b/8e/8b58878c2edc1372cb26cecbd0d80a49b3040b4ec9efb498fe\n",
            "  Building wheel for python-Levenshtein (setup.py) ... \u001b[?25l\u001b[?25hdone\n",
            "  Created wheel for python-Levenshtein: filename=python_Levenshtein-0.12.2-cp37-cp37m-linux_x86_64.whl size=149867 sha256=0dc6525fd5580efcfbed6bd72916869fe5586dab61ecddbfdd7ce0c4f206ee0d\n",
            "  Stored in directory: /root/.cache/pip/wheels/05/5f/ca/7c4367734892581bb5ff896f15027a932c551080b2abd3e00d\n",
            "  Building wheel for yattag (setup.py) ... \u001b[?25l\u001b[?25hdone\n",
            "  Created wheel for yattag: filename=yattag-1.14.0-py3-none-any.whl size=15658 sha256=2875c8846f369f5eb73b3aadb85c34475da73f3dd7fbd000c04e261bccdbe3a0\n",
            "  Stored in directory: /root/.cache/pip/wheels/4d/32/61/f205e276a280e24c3fca996bd956781b2a0fbad498161e53f4\n",
            "Successfully built simalign tseval python-Levenshtein yattag\n",
            "Installing collected packages: smmap, regex, pyyaml, tokenizers, sacremoses, huggingface-hub, gitdb, transformers, python-Levenshtein, portalocker, nltk, networkx, gitpython, colorama, yattag, tseval, stanfordnlp, simalign, sacrebleu, bert-score, easse\n",
            "  Attempting uninstall: regex\n",
            "    Found existing installation: regex 2019.12.20\n",
            "    Uninstalling regex-2019.12.20:\n",
            "      Successfully uninstalled regex-2019.12.20\n",
            "  Attempting uninstall: pyyaml\n",
            "    Found existing installation: PyYAML 3.13\n",
            "    Uninstalling PyYAML-3.13:\n",
            "      Successfully uninstalled PyYAML-3.13\n",
            "  Attempting uninstall: nltk\n",
            "    Found existing installation: nltk 3.2.5\n",
            "    Uninstalling nltk-3.2.5:\n",
            "      Successfully uninstalled nltk-3.2.5\n",
            "  Attempting uninstall: networkx\n",
            "    Found existing installation: networkx 2.6.3\n",
            "    Uninstalling networkx-2.6.3:\n",
            "      Successfully uninstalled networkx-2.6.3\n",
            "  Running setup.py develop for easse\n",
            "\u001b[31mERROR: pip's dependency resolver does not currently take into account all the packages that are installed. This behaviour is the source of the following dependency conflicts.\n",
            "albumentations 0.1.12 requires imgaug<0.2.7,>=0.2.5, but you have imgaug 0.2.9 which is incompatible.\u001b[0m\n",
            "Successfully installed bert-score-0.3.11 colorama-0.4.4 easse-0.2.4 gitdb-4.0.9 gitpython-3.1.25 huggingface-hub-0.2.1 networkx-2.4 nltk-3.6.7 portalocker-2.3.2 python-Levenshtein-0.12.2 pyyaml-6.0 regex-2021.11.10 sacrebleu-2.0.0 sacremoses-0.0.46 simalign-0.3 smmap-5.0.0 stanfordnlp-0.2.0 tokenizers-0.10.3 transformers-4.15.0 tseval-1.0 yattag-1.14.0\n",
            "/content\n"
          ]
        }
      ],
      "source": [
        "!git clone https://github.com/feralvam/easse.git\n",
        "%cd easse\n",
        "!pip install -e .\n",
        "%cd .."
      ]
    },
    {
      "cell_type": "code",
      "execution_count": 2,
      "metadata": {
        "id": "5EbijL7NuBbH",
        "colab": {
          "base_uri": "https://localhost:8080/",
          "height": 1000
        },
        "outputId": "948a2f4e-550e-4fba-9cc0-65841dcffbfe"
      },
      "outputs": [
        {
          "output_type": "stream",
          "name": "stdout",
          "text": [
            "Cloning into 'muss'...\n",
            "remote: Enumerating objects: 395, done.\u001b[K\n",
            "remote: Counting objects: 100% (395/395), done.\u001b[K\n",
            "remote: Compressing objects: 100% (235/235), done.\u001b[K\n",
            "remote: Total 395 (delta 188), reused 354 (delta 158), pack-reused 0\u001b[K\n",
            "Receiving objects: 100% (395/395), 5.38 MiB | 12.35 MiB/s, done.\n",
            "Resolving deltas: 100% (188/188), done.\n",
            "/content/muss\n",
            "Obtaining file:///content/muss\n",
            "Collecting easse@ git+git://github.com/feralvam/easse.git\n",
            "  Cloning git://github.com/feralvam/easse.git to /tmp/pip-install-dyx2mcv_/easse_6f345dd843674c1cb7f47a2747e69255\n",
            "  Running command git clone -q git://github.com/feralvam/easse.git /tmp/pip-install-dyx2mcv_/easse_6f345dd843674c1cb7f47a2747e69255\n",
            "Collecting kenlm@ git+git://github.com/kpu/kenlm.git\n",
            "  Cloning git://github.com/kpu/kenlm.git to /tmp/pip-install-dyx2mcv_/kenlm_327296598f044b3a93652ee42bebe42f\n",
            "  Running command git clone -q git://github.com/kpu/kenlm.git /tmp/pip-install-dyx2mcv_/kenlm_327296598f044b3a93652ee42bebe42f\n",
            "Requirement already satisfied: numpy>=1.18.1 in /usr/local/lib/python3.7/dist-packages (from muss==1.0) (1.19.5)\n",
            "Requirement already satisfied: pandas>=1.0.3 in /usr/local/lib/python3.7/dist-packages (from muss==1.0) (1.1.5)\n",
            "Requirement already satisfied: nltk>=3.4.3 in /usr/local/lib/python3.7/dist-packages (from muss==1.0) (3.6.7)\n",
            "Requirement already satisfied: tqdm>=4.45.0 in /usr/local/lib/python3.7/dist-packages (from muss==1.0) (4.62.3)\n",
            "Requirement already satisfied: sklearn>=0.0 in /usr/local/lib/python3.7/dist-packages (from muss==1.0) (0.0)\n",
            "Requirement already satisfied: torch>=1.4.0 in /usr/local/lib/python3.7/dist-packages (from muss==1.0) (1.10.0+cu111)\n",
            "Requirement already satisfied: scipy>=1.3.1 in /usr/local/lib/python3.7/dist-packages (from muss==1.0) (1.4.1)\n",
            "Requirement already satisfied: gitpython in /usr/local/lib/python3.7/dist-packages (from muss==1.0) (3.1.25)\n",
            "Requirement already satisfied: spacy<3,>=2.1.3 in /usr/local/lib/python3.7/dist-packages (from muss==1.0) (2.2.4)\n",
            "Requirement already satisfied: joblib>=0.13.2 in /usr/local/lib/python3.7/dist-packages (from muss==1.0) (1.1.0)\n",
            "Requirement already satisfied: python-Levenshtein>=0.12.0 in /usr/local/lib/python3.7/dist-packages (from muss==1.0) (0.12.2)\n",
            "Collecting fairseq==0.10.2\n",
            "  Downloading fairseq-0.10.2-cp37-cp37m-manylinux1_x86_64.whl (1.7 MB)\n",
            "\u001b[K     |████████████████████████████████| 1.7 MB 4.3 MB/s \n",
            "\u001b[?25hCollecting truecase\n",
            "  Downloading truecase-0.0.14-py3-none-any.whl (28.4 MB)\n",
            "\u001b[K     |████████████████████████████████| 28.4 MB 1.7 MB/s \n",
            "\u001b[?25hCollecting sentencepiece>=0.1.83\n",
            "  Downloading sentencepiece-0.1.96-cp37-cp37m-manylinux_2_17_x86_64.manylinux2014_x86_64.whl (1.2 MB)\n",
            "\u001b[K     |████████████████████████████████| 1.2 MB 40.7 MB/s \n",
            "\u001b[?25hCollecting imohash>=1.0.4\n",
            "  Downloading imohash-1.0.4-py2.py3-none-any.whl (8.4 kB)\n",
            "Requirement already satisfied: cachetools>=4.0.0 in /usr/local/lib/python3.7/dist-packages (from muss==1.0) (4.2.4)\n",
            "Requirement already satisfied: dill>=0.3.0 in /usr/local/lib/python3.7/dist-packages (from muss==1.0) (0.3.4)\n",
            "Collecting submitit\n",
            "  Downloading submitit-1.4.1-py3-none-any.whl (70 kB)\n",
            "\u001b[K     |████████████████████████████████| 70 kB 8.5 MB/s \n",
            "\u001b[?25hCollecting faiss-gpu\n",
            "  Downloading faiss_gpu-1.7.1.post3-cp37-cp37m-manylinux_2_17_x86_64.manylinux2014_x86_64.whl (90.1 MB)\n",
            "\u001b[K     |████████████████████████████████| 90.1 MB 23 kB/s \n",
            "\u001b[?25hRequirement already satisfied: sacremoses>=0.0.38 in /usr/local/lib/python3.7/dist-packages (from muss==1.0) (0.0.46)\n",
            "Collecting nevergrad>=0.4.0.post3\n",
            "  Downloading nevergrad-0.4.3.post9-py3-none-any.whl (411 kB)\n",
            "\u001b[K     |████████████████████████████████| 411 kB 50.5 MB/s \n",
            "\u001b[?25hRequirement already satisfied: editdistance>=0.5.3 in /usr/local/lib/python3.7/dist-packages (from muss==1.0) (0.5.3)\n",
            "Requirement already satisfied: tokenizers>=0.5.2 in /usr/local/lib/python3.7/dist-packages (from muss==1.0) (0.10.3)\n",
            "Collecting cachier>=1.2.8\n",
            "  Downloading cachier-1.5.4-py2.py3-none-any.whl (17 kB)\n",
            "Collecting tseval@ git+https://github.com/facebookresearch/text-simplification-evaluation.git\n",
            "  Cloning https://github.com/facebookresearch/text-simplification-evaluation.git to /tmp/pip-install-dyx2mcv_/tseval_1ea2ebc49bc6420d947a82cf8e564ac6\n",
            "  Running command git clone -q https://github.com/facebookresearch/text-simplification-evaluation.git /tmp/pip-install-dyx2mcv_/tseval_1ea2ebc49bc6420d947a82cf8e564ac6\n",
            "Collecting simalign@ git+https://github.com/cisnlp/simalign.git\n",
            "  Cloning https://github.com/cisnlp/simalign.git to /tmp/pip-install-dyx2mcv_/simalign_3dd15868bd0e4db1bdd36917f8a498d5\n",
            "  Running command git clone -q https://github.com/cisnlp/simalign.git /tmp/pip-install-dyx2mcv_/simalign_3dd15868bd0e4db1bdd36917f8a498d5\n",
            "  Installing build dependencies ... \u001b[?25l\u001b[?25hdone\n",
            "  Getting requirements to build wheel ... \u001b[?25l\u001b[?25hdone\n",
            "    Preparing wheel metadata ... \u001b[?25l\u001b[?25hdone\n",
            "Requirement already satisfied: click in /usr/local/lib/python3.7/dist-packages (from easse@ git+git://github.com/feralvam/easse.git->muss==1.0) (7.1.2)\n",
            "Requirement already satisfied: matplotlib in /usr/local/lib/python3.7/dist-packages (from easse@ git+git://github.com/feralvam/easse.git->muss==1.0) (3.2.2)\n",
            "Requirement already satisfied: requests>=2.21.0 in /usr/local/lib/python3.7/dist-packages (from easse@ git+git://github.com/feralvam/easse.git->muss==1.0) (2.23.0)\n",
            "Requirement already satisfied: sacrebleu>=2.0.0 in /usr/local/lib/python3.7/dist-packages (from easse@ git+git://github.com/feralvam/easse.git->muss==1.0) (2.0.0)\n",
            "Requirement already satisfied: seaborn in /usr/local/lib/python3.7/dist-packages (from easse@ git+git://github.com/feralvam/easse.git->muss==1.0) (0.11.2)\n",
            "Requirement already satisfied: stanfordnlp in /usr/local/lib/python3.7/dist-packages (from easse@ git+git://github.com/feralvam/easse.git->muss==1.0) (0.2.0)\n",
            "Requirement already satisfied: yattag in /usr/local/lib/python3.7/dist-packages (from easse@ git+git://github.com/feralvam/easse.git->muss==1.0) (1.14.0)\n",
            "Requirement already satisfied: plotly>=4.0.0 in /usr/local/lib/python3.7/dist-packages (from easse@ git+git://github.com/feralvam/easse.git->muss==1.0) (4.4.1)\n",
            "Requirement already satisfied: bert_score in /usr/local/lib/python3.7/dist-packages (from easse@ git+git://github.com/feralvam/easse.git->muss==1.0) (0.3.11)\n",
            "Requirement already satisfied: transformers in /usr/local/lib/python3.7/dist-packages (from simalign@ git+https://github.com/cisnlp/simalign.git->easse@ git+git://github.com/feralvam/easse.git->muss==1.0) (4.15.0)\n",
            "Requirement already satisfied: scikit-learn in /usr/local/lib/python3.7/dist-packages (from simalign@ git+https://github.com/cisnlp/simalign.git->easse@ git+git://github.com/feralvam/easse.git->muss==1.0) (1.0.1)\n",
            "Requirement already satisfied: networkx==2.4 in /usr/local/lib/python3.7/dist-packages (from simalign@ git+https://github.com/cisnlp/simalign.git->easse@ git+git://github.com/feralvam/easse.git->muss==1.0) (2.4)\n",
            "Requirement already satisfied: regex in /usr/local/lib/python3.7/dist-packages (from simalign@ git+https://github.com/cisnlp/simalign.git->easse@ git+git://github.com/feralvam/easse.git->muss==1.0) (2021.11.10)\n",
            "Requirement already satisfied: cffi in /usr/local/lib/python3.7/dist-packages (from fairseq==0.10.2->muss==1.0) (1.15.0)\n",
            "Requirement already satisfied: cython in /usr/local/lib/python3.7/dist-packages (from fairseq==0.10.2->muss==1.0) (0.29.24)\n",
            "Collecting hydra-core\n",
            "  Downloading hydra_core-1.1.1-py3-none-any.whl (145 kB)\n",
            "\u001b[K     |████████████████████████████████| 145 kB 53.2 MB/s \n",
            "\u001b[?25hCollecting dataclasses\n",
            "  Downloading dataclasses-0.6-py3-none-any.whl (14 kB)\n",
            "Requirement already satisfied: decorator>=4.3.0 in /usr/local/lib/python3.7/dist-packages (from networkx==2.4->simalign@ git+https://github.com/cisnlp/simalign.git->easse@ git+git://github.com/feralvam/easse.git->muss==1.0) (4.4.2)\n",
            "Collecting watchdog\n",
            "  Downloading watchdog-2.1.6-py3-none-manylinux2014_x86_64.whl (76 kB)\n",
            "\u001b[K     |████████████████████████████████| 76 kB 5.3 MB/s \n",
            "\u001b[?25hCollecting pathtools\n",
            "  Downloading pathtools-0.1.2.tar.gz (11 kB)\n",
            "Requirement already satisfied: portalocker in /usr/local/lib/python3.7/dist-packages (from cachier>=1.2.8->muss==1.0) (2.3.2)\n",
            "Collecting mmh3>=2.5.1\n",
            "  Downloading mmh3-3.0.0-cp37-cp37m-manylinux2010_x86_64.whl (50 kB)\n",
            "\u001b[K     |████████████████████████████████| 50 kB 7.0 MB/s \n",
            "\u001b[?25hCollecting varint>=1.0.2\n",
            "  Downloading varint-1.0.2.tar.gz (1.9 kB)\n",
            "Requirement already satisfied: typing-extensions>=3.6.6 in /usr/local/lib/python3.7/dist-packages (from nevergrad>=0.4.0.post3->muss==1.0) (3.10.0.2)\n",
            "Collecting bayesian-optimization>=1.2.0\n",
            "  Downloading bayesian-optimization-1.2.0.tar.gz (14 kB)\n",
            "Collecting cma>=2.6.0\n",
            "  Downloading cma-3.1.0-py2.py3-none-any.whl (269 kB)\n",
            "\u001b[K     |████████████████████████████████| 269 kB 42.4 MB/s \n",
            "\u001b[?25hRequirement already satisfied: pytz>=2017.2 in /usr/local/lib/python3.7/dist-packages (from pandas>=1.0.3->muss==1.0) (2018.9)\n",
            "Requirement already satisfied: python-dateutil>=2.7.3 in /usr/local/lib/python3.7/dist-packages (from pandas>=1.0.3->muss==1.0) (2.8.2)\n",
            "Requirement already satisfied: retrying>=1.3.3 in /usr/local/lib/python3.7/dist-packages (from plotly>=4.0.0->easse@ git+git://github.com/feralvam/easse.git->muss==1.0) (1.3.3)\n",
            "Requirement already satisfied: six in /usr/local/lib/python3.7/dist-packages (from plotly>=4.0.0->easse@ git+git://github.com/feralvam/easse.git->muss==1.0) (1.15.0)\n",
            "Requirement already satisfied: setuptools in /usr/local/lib/python3.7/dist-packages (from python-Levenshtein>=0.12.0->muss==1.0) (57.4.0)\n",
            "Requirement already satisfied: certifi>=2017.4.17 in /usr/local/lib/python3.7/dist-packages (from requests>=2.21.0->easse@ git+git://github.com/feralvam/easse.git->muss==1.0) (2021.10.8)\n",
            "Requirement already satisfied: urllib3!=1.25.0,!=1.25.1,<1.26,>=1.21.1 in /usr/local/lib/python3.7/dist-packages (from requests>=2.21.0->easse@ git+git://github.com/feralvam/easse.git->muss==1.0) (1.24.3)\n",
            "Requirement already satisfied: chardet<4,>=3.0.2 in /usr/local/lib/python3.7/dist-packages (from requests>=2.21.0->easse@ git+git://github.com/feralvam/easse.git->muss==1.0) (3.0.4)\n",
            "Requirement already satisfied: idna<3,>=2.5 in /usr/local/lib/python3.7/dist-packages (from requests>=2.21.0->easse@ git+git://github.com/feralvam/easse.git->muss==1.0) (2.10)\n",
            "Requirement already satisfied: colorama in /usr/local/lib/python3.7/dist-packages (from sacrebleu>=2.0.0->easse@ git+git://github.com/feralvam/easse.git->muss==1.0) (0.4.4)\n",
            "Requirement already satisfied: tabulate>=0.8.9 in /usr/local/lib/python3.7/dist-packages (from sacrebleu>=2.0.0->easse@ git+git://github.com/feralvam/easse.git->muss==1.0) (0.8.9)\n",
            "Requirement already satisfied: threadpoolctl>=2.0.0 in /usr/local/lib/python3.7/dist-packages (from scikit-learn->simalign@ git+https://github.com/cisnlp/simalign.git->easse@ git+git://github.com/feralvam/easse.git->muss==1.0) (3.0.0)\n",
            "Requirement already satisfied: srsly<1.1.0,>=1.0.2 in /usr/local/lib/python3.7/dist-packages (from spacy<3,>=2.1.3->muss==1.0) (1.0.5)\n",
            "Requirement already satisfied: murmurhash<1.1.0,>=0.28.0 in /usr/local/lib/python3.7/dist-packages (from spacy<3,>=2.1.3->muss==1.0) (1.0.6)\n",
            "Requirement already satisfied: wasabi<1.1.0,>=0.4.0 in /usr/local/lib/python3.7/dist-packages (from spacy<3,>=2.1.3->muss==1.0) (0.8.2)\n",
            "Requirement already satisfied: cymem<2.1.0,>=2.0.2 in /usr/local/lib/python3.7/dist-packages (from spacy<3,>=2.1.3->muss==1.0) (2.0.6)\n",
            "Requirement already satisfied: catalogue<1.1.0,>=0.0.7 in /usr/local/lib/python3.7/dist-packages (from spacy<3,>=2.1.3->muss==1.0) (1.0.0)\n",
            "Requirement already satisfied: plac<1.2.0,>=0.9.6 in /usr/local/lib/python3.7/dist-packages (from spacy<3,>=2.1.3->muss==1.0) (1.1.3)\n",
            "Requirement already satisfied: preshed<3.1.0,>=3.0.2 in /usr/local/lib/python3.7/dist-packages (from spacy<3,>=2.1.3->muss==1.0) (3.0.6)\n",
            "Requirement already satisfied: blis<0.5.0,>=0.4.0 in /usr/local/lib/python3.7/dist-packages (from spacy<3,>=2.1.3->muss==1.0) (0.4.1)\n",
            "Requirement already satisfied: thinc==7.4.0 in /usr/local/lib/python3.7/dist-packages (from spacy<3,>=2.1.3->muss==1.0) (7.4.0)\n",
            "Requirement already satisfied: importlib-metadata>=0.20 in /usr/local/lib/python3.7/dist-packages (from catalogue<1.1.0,>=0.0.7->spacy<3,>=2.1.3->muss==1.0) (4.8.2)\n",
            "Requirement already satisfied: zipp>=0.5 in /usr/local/lib/python3.7/dist-packages (from importlib-metadata>=0.20->catalogue<1.1.0,>=0.0.7->spacy<3,>=2.1.3->muss==1.0) (3.6.0)\n",
            "Requirement already satisfied: packaging>=20.9 in /usr/local/lib/python3.7/dist-packages (from bert_score->easse@ git+git://github.com/feralvam/easse.git->muss==1.0) (21.3)\n",
            "Requirement already satisfied: pyparsing!=3.0.5,>=2.0.2 in /usr/local/lib/python3.7/dist-packages (from packaging>=20.9->bert_score->easse@ git+git://github.com/feralvam/easse.git->muss==1.0) (3.0.6)\n",
            "Requirement already satisfied: pyyaml>=5.1 in /usr/local/lib/python3.7/dist-packages (from transformers->simalign@ git+https://github.com/cisnlp/simalign.git->easse@ git+git://github.com/feralvam/easse.git->muss==1.0) (6.0)\n",
            "Requirement already satisfied: filelock in /usr/local/lib/python3.7/dist-packages (from transformers->simalign@ git+https://github.com/cisnlp/simalign.git->easse@ git+git://github.com/feralvam/easse.git->muss==1.0) (3.4.0)\n",
            "Requirement already satisfied: huggingface-hub<1.0,>=0.1.0 in /usr/local/lib/python3.7/dist-packages (from transformers->simalign@ git+https://github.com/cisnlp/simalign.git->easse@ git+git://github.com/feralvam/easse.git->muss==1.0) (0.2.1)\n",
            "Requirement already satisfied: pycparser in /usr/local/lib/python3.7/dist-packages (from cffi->fairseq==0.10.2->muss==1.0) (2.21)\n",
            "Requirement already satisfied: gitdb<5,>=4.0.1 in /usr/local/lib/python3.7/dist-packages (from gitpython->muss==1.0) (4.0.9)\n",
            "Requirement already satisfied: smmap<6,>=3.0.1 in /usr/local/lib/python3.7/dist-packages (from gitdb<5,>=4.0.1->gitpython->muss==1.0) (5.0.0)\n",
            "Collecting antlr4-python3-runtime==4.8\n",
            "  Downloading antlr4-python3-runtime-4.8.tar.gz (112 kB)\n",
            "\u001b[K     |████████████████████████████████| 112 kB 51.0 MB/s \n",
            "\u001b[?25hCollecting omegaconf==2.1.*\n",
            "  Downloading omegaconf-2.1.1-py3-none-any.whl (74 kB)\n",
            "\u001b[K     |████████████████████████████████| 74 kB 3.5 MB/s \n",
            "\u001b[?25hRequirement already satisfied: importlib-resources in /usr/local/lib/python3.7/dist-packages (from hydra-core->fairseq==0.10.2->muss==1.0) (5.4.0)\n",
            "Requirement already satisfied: kiwisolver>=1.0.1 in /usr/local/lib/python3.7/dist-packages (from matplotlib->easse@ git+git://github.com/feralvam/easse.git->muss==1.0) (1.3.2)\n",
            "Requirement already satisfied: cycler>=0.10 in /usr/local/lib/python3.7/dist-packages (from matplotlib->easse@ git+git://github.com/feralvam/easse.git->muss==1.0) (0.11.0)\n",
            "Requirement already satisfied: protobuf in /usr/local/lib/python3.7/dist-packages (from stanfordnlp->easse@ git+git://github.com/feralvam/easse.git->muss==1.0) (3.17.3)\n",
            "Requirement already satisfied: cloudpickle>=1.2.1 in /usr/local/lib/python3.7/dist-packages (from submitit->muss==1.0) (1.3.0)\n",
            "Building wheels for collected packages: easse, kenlm, bayesian-optimization, varint, antlr4-python3-runtime, pathtools\n",
            "  Building wheel for easse (setup.py) ... \u001b[?25l\u001b[?25hdone\n",
            "  Created wheel for easse: filename=easse-0.2.4-py3-none-any.whl size=17949398 sha256=c07b6c9bd6a571cbf29c548611bc135920df15202e50c5392f8e03bfe35a7c61\n",
            "  Stored in directory: /tmp/pip-ephem-wheel-cache-asamfrle/wheels/44/1b/db/a7e2429513f283e6a7c608fe5b0fe2bf1dc7a6aad6c77f2b70\n",
            "  Building wheel for kenlm (setup.py) ... \u001b[?25l\u001b[?25hdone\n",
            "  Created wheel for kenlm: filename=kenlm-0.0.0-cp37-cp37m-linux_x86_64.whl size=2331201 sha256=6dc72add4138fcf2adf65509f4641a372e176dc57f2f68c56c7a215b236b9eb9\n",
            "  Stored in directory: /tmp/pip-ephem-wheel-cache-asamfrle/wheels/12/d4/bb/238ba26692cdf5f4f56fcdb46750f1439747f1f909eeef8ad9\n",
            "  Building wheel for bayesian-optimization (setup.py) ... \u001b[?25l\u001b[?25hdone\n",
            "  Created wheel for bayesian-optimization: filename=bayesian_optimization-1.2.0-py3-none-any.whl size=11685 sha256=92f46723131e21edc23bf6bbec1ff3e966989379f24e08dae9cb0ff37f23352a\n",
            "  Stored in directory: /root/.cache/pip/wheels/fd/9b/71/f127d694e02eb40bcf18c7ae9613b88a6be4470f57a8528c5b\n",
            "  Building wheel for varint (setup.py) ... \u001b[?25l\u001b[?25hdone\n",
            "  Created wheel for varint: filename=varint-1.0.2-py3-none-any.whl size=1979 sha256=74c57483d1c957fdc5884ad5a3646ebea10a5cac6fcd0cb8e1e1a2167f2e9d92\n",
            "  Stored in directory: /root/.cache/pip/wheels/69/21/07/09f1c6a7d9b59377aa6d98da6efdd670f7ca40aabd93d02704\n",
            "  Building wheel for antlr4-python3-runtime (setup.py) ... \u001b[?25l\u001b[?25hdone\n",
            "  Created wheel for antlr4-python3-runtime: filename=antlr4_python3_runtime-4.8-py3-none-any.whl size=141230 sha256=71ba1a1ce8a707afc39c9f6607cc4b2f3edfaca344b1aa6bf74549859e599086\n",
            "  Stored in directory: /root/.cache/pip/wheels/ca/33/b7/336836125fc9bb4ceaa4376d8abca10ca8bc84ddc824baea6c\n",
            "  Building wheel for pathtools (setup.py) ... \u001b[?25l\u001b[?25hdone\n",
            "  Created wheel for pathtools: filename=pathtools-0.1.2-py3-none-any.whl size=8807 sha256=b2db18a11082a79bfd5dadeecd3e5ff378708bd3ab5438359f07fa22bd3567dd\n",
            "  Stored in directory: /root/.cache/pip/wheels/3e/31/09/fa59cef12cdcfecc627b3d24273699f390e71828921b2cbba2\n",
            "Successfully built easse kenlm bayesian-optimization varint antlr4-python3-runtime pathtools\n",
            "Installing collected packages: antlr4-python3-runtime, omegaconf, watchdog, varint, pathtools, mmh3, hydra-core, dataclasses, cma, bayesian-optimization, truecase, submitit, sentencepiece, nevergrad, kenlm, imohash, faiss-gpu, fairseq, easse, cachier, muss\n",
            "  Attempting uninstall: easse\n",
            "    Found existing installation: easse 0.2.4\n",
            "    Can't uninstall 'easse'. No files were found to uninstall.\n",
            "  Running setup.py develop for muss\n",
            "Successfully installed antlr4-python3-runtime-4.8 bayesian-optimization-1.2.0 cachier-1.5.4 cma-3.1.0 dataclasses-0.6 easse-0.2.4 fairseq-0.10.2 faiss-gpu-1.7.1.post3 hydra-core-1.1.1 imohash-1.0.4 kenlm-0.0.0 mmh3-3.0.0 muss-1.0 nevergrad-0.4.3.post9 omegaconf-2.1.1 pathtools-0.1.2 sentencepiece-0.1.96 submitit-1.4.1 truecase-0.0.14 varint-1.0.2 watchdog-2.1.6\n"
          ]
        },
        {
          "output_type": "display_data",
          "data": {
            "application/vnd.colab-display-data+json": {
              "pip_warning": {
                "packages": [
                  "pydevd_plugins"
                ]
              }
            }
          },
          "metadata": {}
        },
        {
          "output_type": "stream",
          "name": "stdout",
          "text": [
            "Collecting en_core_web_md==2.2.5\n",
            "  Downloading https://github.com/explosion/spacy-models/releases/download/en_core_web_md-2.2.5/en_core_web_md-2.2.5.tar.gz (96.4 MB)\n",
            "\u001b[K     |████████████████████████████████| 96.4 MB 601 kB/s \n",
            "\u001b[?25hRequirement already satisfied: spacy>=2.2.2 in /usr/local/lib/python3.7/dist-packages (from en_core_web_md==2.2.5) (2.2.4)\n",
            "Requirement already satisfied: cymem<2.1.0,>=2.0.2 in /usr/local/lib/python3.7/dist-packages (from spacy>=2.2.2->en_core_web_md==2.2.5) (2.0.6)\n",
            "Requirement already satisfied: numpy>=1.15.0 in /usr/local/lib/python3.7/dist-packages (from spacy>=2.2.2->en_core_web_md==2.2.5) (1.19.5)\n",
            "Requirement already satisfied: catalogue<1.1.0,>=0.0.7 in /usr/local/lib/python3.7/dist-packages (from spacy>=2.2.2->en_core_web_md==2.2.5) (1.0.0)\n",
            "Requirement already satisfied: thinc==7.4.0 in /usr/local/lib/python3.7/dist-packages (from spacy>=2.2.2->en_core_web_md==2.2.5) (7.4.0)\n",
            "Requirement already satisfied: tqdm<5.0.0,>=4.38.0 in /usr/local/lib/python3.7/dist-packages (from spacy>=2.2.2->en_core_web_md==2.2.5) (4.62.3)\n",
            "Requirement already satisfied: setuptools in /usr/local/lib/python3.7/dist-packages (from spacy>=2.2.2->en_core_web_md==2.2.5) (57.4.0)\n",
            "Requirement already satisfied: blis<0.5.0,>=0.4.0 in /usr/local/lib/python3.7/dist-packages (from spacy>=2.2.2->en_core_web_md==2.2.5) (0.4.1)\n",
            "Requirement already satisfied: plac<1.2.0,>=0.9.6 in /usr/local/lib/python3.7/dist-packages (from spacy>=2.2.2->en_core_web_md==2.2.5) (1.1.3)\n",
            "Requirement already satisfied: srsly<1.1.0,>=1.0.2 in /usr/local/lib/python3.7/dist-packages (from spacy>=2.2.2->en_core_web_md==2.2.5) (1.0.5)\n",
            "Requirement already satisfied: requests<3.0.0,>=2.13.0 in /usr/local/lib/python3.7/dist-packages (from spacy>=2.2.2->en_core_web_md==2.2.5) (2.23.0)\n",
            "Requirement already satisfied: wasabi<1.1.0,>=0.4.0 in /usr/local/lib/python3.7/dist-packages (from spacy>=2.2.2->en_core_web_md==2.2.5) (0.8.2)\n",
            "Requirement already satisfied: preshed<3.1.0,>=3.0.2 in /usr/local/lib/python3.7/dist-packages (from spacy>=2.2.2->en_core_web_md==2.2.5) (3.0.6)\n",
            "Requirement already satisfied: murmurhash<1.1.0,>=0.28.0 in /usr/local/lib/python3.7/dist-packages (from spacy>=2.2.2->en_core_web_md==2.2.5) (1.0.6)\n",
            "Requirement already satisfied: importlib-metadata>=0.20 in /usr/local/lib/python3.7/dist-packages (from catalogue<1.1.0,>=0.0.7->spacy>=2.2.2->en_core_web_md==2.2.5) (4.8.2)\n",
            "Requirement already satisfied: typing-extensions>=3.6.4 in /usr/local/lib/python3.7/dist-packages (from importlib-metadata>=0.20->catalogue<1.1.0,>=0.0.7->spacy>=2.2.2->en_core_web_md==2.2.5) (3.10.0.2)\n",
            "Requirement already satisfied: zipp>=0.5 in /usr/local/lib/python3.7/dist-packages (from importlib-metadata>=0.20->catalogue<1.1.0,>=0.0.7->spacy>=2.2.2->en_core_web_md==2.2.5) (3.6.0)\n",
            "Requirement already satisfied: urllib3!=1.25.0,!=1.25.1,<1.26,>=1.21.1 in /usr/local/lib/python3.7/dist-packages (from requests<3.0.0,>=2.13.0->spacy>=2.2.2->en_core_web_md==2.2.5) (1.24.3)\n",
            "Requirement already satisfied: chardet<4,>=3.0.2 in /usr/local/lib/python3.7/dist-packages (from requests<3.0.0,>=2.13.0->spacy>=2.2.2->en_core_web_md==2.2.5) (3.0.4)\n",
            "Requirement already satisfied: idna<3,>=2.5 in /usr/local/lib/python3.7/dist-packages (from requests<3.0.0,>=2.13.0->spacy>=2.2.2->en_core_web_md==2.2.5) (2.10)\n",
            "Requirement already satisfied: certifi>=2017.4.17 in /usr/local/lib/python3.7/dist-packages (from requests<3.0.0,>=2.13.0->spacy>=2.2.2->en_core_web_md==2.2.5) (2021.10.8)\n",
            "Building wheels for collected packages: en-core-web-md\n",
            "  Building wheel for en-core-web-md (setup.py) ... \u001b[?25l\u001b[?25hdone\n",
            "  Created wheel for en-core-web-md: filename=en_core_web_md-2.2.5-py3-none-any.whl size=98051302 sha256=5bbafc76f9b3c764a2d1ccd914bd2e558583368d48388daced6b92f0a745626a\n",
            "  Stored in directory: /tmp/pip-ephem-wheel-cache-4c048a41/wheels/69/c5/b8/4f1c029d89238734311b3269762ab2ee325a42da2ce8edb997\n",
            "Successfully built en-core-web-md\n",
            "Installing collected packages: en-core-web-md\n",
            "Successfully installed en-core-web-md-2.2.5\n",
            "\u001b[38;5;2m✔ Download and installation successful\u001b[0m\n",
            "You can now load the model via spacy.load('en_core_web_md')\n",
            "/content\n"
          ]
        }
      ],
      "source": [
        "!git clone https://github.com/facebookresearch/muss.git\n",
        "%cd muss/\n",
        "!pip install -e .   # Install package\n",
        "!python -m spacy download en_core_web_md\n",
        "!pip3 install textstat -q\n",
        "%cd .."
      ]
    },
    {
      "cell_type": "markdown",
      "source": [
        "#### Restart runtime before you proceed to import MUSS\n",
        "#### Upload asset_test_dataset.csv from the repo"
      ],
      "metadata": {
        "id": "tj6xAyvHz-7b"
      }
    },
    {
      "cell_type": "code",
      "source": [
        ""
      ],
      "metadata": {
        "id": "HesgWEn9nARl"
      },
      "execution_count": null,
      "outputs": []
    },
    {
      "cell_type": "markdown",
      "source": [
        "## Libraries and Datasets used in the notebook\n",
        "\n",
        "- **easse**: ([link](https://github.com/feralvam/easse)): Python package with the aim to simplify benchmarking and comparing different sentence simplification models by running them on benchmarking datasets.\n",
        "- **textstat**: A library used for computing the statistics within a piece of text in English. Used here for computing the FKGL metric.\n",
        "- **Asset**: Evaluation dataset for the sentence simplification task, containing 359 sentences for test, and 2000 for validation. Each sentence has 8 different references.\n",
        "- **turkcorpus**: Uses the exact same sentences as asset, but different simplifications."
      ],
      "metadata": {
        "id": "NwuaY0BZnA7d"
      }
    },
    {
      "cell_type": "markdown",
      "source": [
        "## Metrics used for evaluation\n",
        "\n",
        "- **SARI** ([link](https://cocoxu.github.io/publications/tacl2016-smt-simplification.pdf)): A metric devised specifically for the sentence simplification task. It explicitly measures the goodness of words that are added, deleted and kept by the system\n",
        "\n",
        "- **Flesch-Kincaid Grade Level** ([link](https://en.wikipedia.org/wiki/Flesch%E2%80%93Kincaid_readability_tests)):  A score that indicates the difficulty of reading a piece of text, the higher it is, the more difficult the text is, the lower it is, the easier the text is."
      ],
      "metadata": {
        "id": "9NNNruB6qBlj"
      }
    },
    {
      "cell_type": "markdown",
      "source": [
        "### ASSET evaluation"
      ],
      "metadata": {
        "id": "MK89y6Ljp1yH"
      }
    },
    {
      "cell_type": "code",
      "source": [
        "import textstat\n",
        "import pandas as pd\n",
        "\n",
        "from easse.sari import corpus_sari\n",
        "from muss.simplify import simplify_sentences\n",
        "\n",
        "\n",
        "#Retrieve the ASSET dataset and perform prediction\n",
        "asset_test = pd.read_csv(\"asset_test_dataset.csv\", encoding=\"utf-8\")\n",
        "pred_sentences = simplify_sentences(asset_test.text.tolist(), model_name=\"muss_en_wikilarge_mined\")\n",
        "\n",
        "asset_test[\"preds\"] = pred_sentences"
      ],
      "metadata": {
        "id": "_mT3Id3NzGTS"
      },
      "execution_count": 1,
      "outputs": []
    },
    {
      "cell_type": "code",
      "source": [
        "sari = corpus_sari(orig_sents=asset_test.text.tolist(),  \n",
        "            sys_sents=pred_sentences, \n",
        "            refs_sents=asset_test[[\"simp_0\",\"simp_1\",\"simp_2\",\"simp_3\",\"simp_4\",\"simp_5\",\"simp_6\",\"simp_7\",\"simp_8\",]].values.T.tolist())"
      ],
      "metadata": {
        "id": "e0RUEYvezxG6"
      },
      "execution_count": 31,
      "outputs": []
    },
    {
      "cell_type": "code",
      "source": [
        "fkgl_scores = [textstat.flesch_kincaid_grade(i) for i in pred_sentences]\n",
        "fkgl_score = sum(fkgl_scores)/len(fkgl_scores)\n",
        "print(f\"Flesch-Kincaid Grade Level for the ASSET dataset: {fkgl_score}\")\n",
        "print(f\"SARI score for the ASSET dataset: {sari}\")"
      ],
      "metadata": {
        "colab": {
          "base_uri": "https://localhost:8080/"
        },
        "id": "1_miU0h84yZ9",
        "outputId": "72a765f2-93c9-4119-cb26-ad92d38f1ce6"
      },
      "execution_count": 32,
      "outputs": [
        {
          "output_type": "stream",
          "name": "stdout",
          "text": [
            "Flesch-Kincaid Grade Level for the ASSET dataset: 6.161281337047366\n",
            "SARI score for the ASSET dataset: 43.61110533872386\n"
          ]
        }
      ]
    },
    {
      "cell_type": "markdown",
      "source": [
        "### Turkcorpus evaluation"
      ],
      "metadata": {
        "id": "m1t0O99TpxnF"
      }
    },
    {
      "cell_type": "markdown",
      "source": [
        "![image.png](data:image/png;base64,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)"
      ],
      "metadata": {
        "id": "LKRezndjrPwP"
      }
    },
    {
      "cell_type": "code",
      "source": [
        "turkcorpus_test = pd.read_csv(\"turkcorpus_test_dataset.csv\", encoding=\"utf-8\").dropna()\n",
        "pred_sentences = simplify_sentences(turkcorpus_test.text.tolist(), model_name=\"muss_en_wikilarge_mined\")\n"
      ],
      "metadata": {
        "colab": {
          "base_uri": "https://localhost:8080/"
        },
        "id": "9dxiQrXpzzRB",
        "outputId": "683c88b1-9009-4ac3-dc77-1a80ac12662d"
      },
      "execution_count": 2,
      "outputs": [
        {
          "output_type": "stream",
          "name": "stdout",
          "text": [
            "2022-01-08 21:50:54 | INFO | numexpr.utils | NumExpr defaulting to 2 threads.\n"
          ]
        },
        {
          "output_type": "stream",
          "name": "stderr",
          "text": [
            "/usr/local/lib/python3.7/dist-packages/fairseq/search.py:140: UserWarning: __floordiv__ is deprecated, and its behavior will change in a future version of pytorch. It currently rounds toward 0 (like the 'trunc' function NOT 'floor'). This results in incorrect rounding for negative values. To keep the current behavior, use torch.div(a, b, rounding_mode='trunc'), or for actual floor division, use torch.div(a, b, rounding_mode='floor').\n",
            "  beams_buf = indices_buf // vocab_size\n",
            "/usr/local/lib/python3.7/dist-packages/fairseq/sequence_generator.py:651: UserWarning: __floordiv__ is deprecated, and its behavior will change in a future version of pytorch. It currently rounds toward 0 (like the 'trunc' function NOT 'floor'). This results in incorrect rounding for negative values. To keep the current behavior, use torch.div(a, b, rounding_mode='trunc'), or for actual floor division, use torch.div(a, b, rounding_mode='floor').\n",
            "  unfin_idx = idx // beam_size\n"
          ]
        }
      ]
    },
    {
      "cell_type": "code",
      "source": [
        "sari = corpus_sari(orig_sents=turkcorpus_test.text.tolist(),  \n",
        "            sys_sents=pred_sentences, \n",
        "            refs_sents=turkcorpus_test[[\"simp_0\",\"simp_1\",\"simp_2\",\"simp_3\",\"simp_4\",\"simp_5\",\"simp_6\",\"simp_7\",]].values.T.tolist())\n"
      ],
      "metadata": {
        "id": "Bm6CGaPs2Haq"
      },
      "execution_count": 3,
      "outputs": []
    },
    {
      "cell_type": "code",
      "source": [
        "fkgl_scores = [textstat.flesch_kincaid_grade(i) for i in pred_sentences]\n",
        "fkgl_score = sum(fkgl_scores)/len(fkgl_scores)\n",
        "\n",
        "print(f\"Flesch-Kincaid Grade Level for the ASSET dataset: {fkgl_score}\")\n",
        "print(f\"SARI score for the ASSET dataset: {sari}\")"
      ],
      "metadata": {
        "id": "UWgGMm4I367d",
        "colab": {
          "base_uri": "https://localhost:8080/"
        },
        "outputId": "68acba99-2338-4f0b-de09-afac17f8e5ca"
      },
      "execution_count": 4,
      "outputs": [
        {
          "output_type": "stream",
          "name": "stdout",
          "text": [
            "Flesch-Kincaid Grade Level for the ASSET dataset: 6.161281337047366\n",
            "SARI score for the ASSET dataset: 38.929465037007496\n"
          ]
        }
      ]
    },
    {
      "cell_type": "code",
      "source": [
        ""
      ],
      "metadata": {
        "id": "cGfbI8Hkmb8J"
      },
      "execution_count": null,
      "outputs": []
    },
    {
      "cell_type": "code",
      "source": [
        ""
      ],
      "metadata": {
        "id": "5bJW2ofJl5pc"
      },
      "execution_count": null,
      "outputs": []
    }
  ],
  "metadata": {
    "accelerator": "GPU",
    "colab": {
      "name": "evaluate MUSS.ipynb",
      "provenance": [],
      "collapsed_sections": []
    },
    "kernelspec": {
      "display_name": "Python 3",
      "name": "python3"
    },
    "language_info": {
      "name": "python"
    }
  },
  "nbformat": 4,
  "nbformat_minor": 0
}