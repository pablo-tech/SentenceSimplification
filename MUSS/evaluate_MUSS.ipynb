{
  "cells": [
    {
      "cell_type": "code",
      "execution_count": 1,
      "metadata": {
        "colab": {
          "base_uri": "https://localhost:8080/"
        },
        "id": "FEn_Wlq8lud7",
        "outputId": "a0872833-62cd-4550-e0a6-50e91f893038"
      },
      "outputs": [
        {
          "output_type": "stream",
          "name": "stdout",
          "text": [
            "Cloning into 'easse'...\n",
            "remote: Enumerating objects: 1937, done.\u001b[K\n",
            "remote: Counting objects: 100% (504/504), done.\u001b[K\n",
            "remote: Compressing objects: 100% (303/303), done.\u001b[K\n",
            "remote: Total 1937 (delta 289), reused 347 (delta 194), pack-reused 1433\u001b[K\n",
            "Receiving objects: 100% (1937/1937), 33.79 MiB | 19.87 MiB/s, done.\n",
            "Resolving deltas: 100% (1162/1162), done.\n",
            "/content/easse\n",
            "Obtaining file:///content/easse\n",
            "Collecting tseval@ git+https://github.com/facebookresearch/text-simplification-evaluation.git\n",
            "  Cloning https://github.com/facebookresearch/text-simplification-evaluation.git to /tmp/pip-install-d13a2nk4/tseval_ab9e931ca948471cb2c7ad496f7e0af6\n",
            "  Running command git clone -q https://github.com/facebookresearch/text-simplification-evaluation.git /tmp/pip-install-d13a2nk4/tseval_ab9e931ca948471cb2c7ad496f7e0af6\n",
            "Collecting simalign@ git+https://github.com/cisnlp/simalign.git\n",
            "  Cloning https://github.com/cisnlp/simalign.git to /tmp/pip-install-d13a2nk4/simalign_a2c5edb65f604044b41b75ca3edac4ad\n",
            "  Running command git clone -q https://github.com/cisnlp/simalign.git /tmp/pip-install-d13a2nk4/simalign_a2c5edb65f604044b41b75ca3edac4ad\n",
            "  Installing build dependencies ... \u001b[?25l\u001b[?25hdone\n",
            "  Getting requirements to build wheel ... \u001b[?25l\u001b[?25hdone\n",
            "    Preparing wheel metadata ... \u001b[?25l\u001b[?25hdone\n",
            "Requirement already satisfied: click in /usr/local/lib/python3.7/dist-packages (from easse==0.2.4) (7.1.2)\n",
            "Requirement already satisfied: matplotlib in /usr/local/lib/python3.7/dist-packages (from easse==0.2.4) (3.2.2)\n",
            "Collecting nltk>=3.6.5\n",
            "  Downloading nltk-3.6.7-py3-none-any.whl (1.5 MB)\n",
            "\u001b[K     |████████████████████████████████| 1.5 MB 5.2 MB/s \n",
            "\u001b[?25hRequirement already satisfied: numpy in /usr/local/lib/python3.7/dist-packages (from easse==0.2.4) (1.19.5)\n",
            "Requirement already satisfied: pandas in /usr/local/lib/python3.7/dist-packages (from easse==0.2.4) (1.1.5)\n",
            "Requirement already satisfied: requests>=2.21.0 in /usr/local/lib/python3.7/dist-packages (from easse==0.2.4) (2.23.0)\n",
            "Collecting sacrebleu>=2.0.0\n",
            "  Downloading sacrebleu-2.0.0-py3-none-any.whl (90 kB)\n",
            "\u001b[K     |████████████████████████████████| 90 kB 8.6 MB/s \n",
            "\u001b[?25hCollecting sacremoses\n",
            "  Downloading sacremoses-0.0.46-py3-none-any.whl (895 kB)\n",
            "\u001b[K     |████████████████████████████████| 895 kB 43.8 MB/s \n",
            "\u001b[?25hRequirement already satisfied: seaborn in /usr/local/lib/python3.7/dist-packages (from easse==0.2.4) (0.11.2)\n",
            "Requirement already satisfied: sklearn in /usr/local/lib/python3.7/dist-packages (from easse==0.2.4) (0.0)\n",
            "Collecting stanfordnlp\n",
            "  Downloading stanfordnlp-0.2.0-py3-none-any.whl (158 kB)\n",
            "\u001b[K     |████████████████████████████████| 158 kB 51.6 MB/s \n",
            "\u001b[?25hRequirement already satisfied: tqdm>=4.32.2 in /usr/local/lib/python3.7/dist-packages (from easse==0.2.4) (4.62.3)\n",
            "Collecting yattag\n",
            "  Downloading yattag-1.14.0.tar.gz (26 kB)\n",
            "Requirement already satisfied: plotly>=4.0.0 in /usr/local/lib/python3.7/dist-packages (from easse==0.2.4) (4.4.1)\n",
            "Collecting bert_score\n",
            "  Downloading bert_score-0.3.11-py3-none-any.whl (60 kB)\n",
            "\u001b[K     |████████████████████████████████| 60 kB 6.9 MB/s \n",
            "\u001b[?25hRequirement already satisfied: scipy in /usr/local/lib/python3.7/dist-packages (from simalign@ git+https://github.com/cisnlp/simalign.git->easse==0.2.4) (1.4.1)\n",
            "Requirement already satisfied: scikit-learn in /usr/local/lib/python3.7/dist-packages (from simalign@ git+https://github.com/cisnlp/simalign.git->easse==0.2.4) (1.0.1)\n",
            "Requirement already satisfied: torch in /usr/local/lib/python3.7/dist-packages (from simalign@ git+https://github.com/cisnlp/simalign.git->easse==0.2.4) (1.10.0+cu111)\n",
            "Collecting transformers\n",
            "  Downloading transformers-4.15.0-py3-none-any.whl (3.4 MB)\n",
            "\u001b[K     |████████████████████████████████| 3.4 MB 36.4 MB/s \n",
            "\u001b[?25hCollecting networkx==2.4\n",
            "  Downloading networkx-2.4-py3-none-any.whl (1.6 MB)\n",
            "\u001b[K     |████████████████████████████████| 1.6 MB 38.7 MB/s \n",
            "\u001b[?25hRequirement already satisfied: regex in /usr/local/lib/python3.7/dist-packages (from simalign@ git+https://github.com/cisnlp/simalign.git->easse==0.2.4) (2019.12.20)\n",
            "Collecting python-Levenshtein\n",
            "  Downloading python-Levenshtein-0.12.2.tar.gz (50 kB)\n",
            "\u001b[K     |████████████████████████████████| 50 kB 5.8 MB/s \n",
            "\u001b[?25hCollecting gitpython\n",
            "  Downloading GitPython-3.1.24-py3-none-any.whl (180 kB)\n",
            "\u001b[K     |████████████████████████████████| 180 kB 49.1 MB/s \n",
            "\u001b[?25hRequirement already satisfied: decorator>=4.3.0 in /usr/local/lib/python3.7/dist-packages (from networkx==2.4->simalign@ git+https://github.com/cisnlp/simalign.git->easse==0.2.4) (4.4.2)\n",
            "Requirement already satisfied: joblib in /usr/local/lib/python3.7/dist-packages (from nltk>=3.6.5->easse==0.2.4) (1.1.0)\n",
            "Collecting regex\n",
            "  Downloading regex-2021.11.10-cp37-cp37m-manylinux_2_17_x86_64.manylinux2014_x86_64.whl (749 kB)\n",
            "\u001b[K     |████████████████████████████████| 749 kB 48.0 MB/s \n",
            "\u001b[?25hRequirement already satisfied: six in /usr/local/lib/python3.7/dist-packages (from plotly>=4.0.0->easse==0.2.4) (1.15.0)\n",
            "Requirement already satisfied: retrying>=1.3.3 in /usr/local/lib/python3.7/dist-packages (from plotly>=4.0.0->easse==0.2.4) (1.3.3)\n",
            "Requirement already satisfied: chardet<4,>=3.0.2 in /usr/local/lib/python3.7/dist-packages (from requests>=2.21.0->easse==0.2.4) (3.0.4)\n",
            "Requirement already satisfied: certifi>=2017.4.17 in /usr/local/lib/python3.7/dist-packages (from requests>=2.21.0->easse==0.2.4) (2021.10.8)\n",
            "Requirement already satisfied: idna<3,>=2.5 in /usr/local/lib/python3.7/dist-packages (from requests>=2.21.0->easse==0.2.4) (2.10)\n",
            "Requirement already satisfied: urllib3!=1.25.0,!=1.25.1,<1.26,>=1.21.1 in /usr/local/lib/python3.7/dist-packages (from requests>=2.21.0->easse==0.2.4) (1.24.3)\n",
            "Collecting colorama\n",
            "  Downloading colorama-0.4.4-py2.py3-none-any.whl (16 kB)\n",
            "Requirement already satisfied: tabulate>=0.8.9 in /usr/local/lib/python3.7/dist-packages (from sacrebleu>=2.0.0->easse==0.2.4) (0.8.9)\n",
            "Collecting portalocker\n",
            "  Downloading portalocker-2.3.2-py2.py3-none-any.whl (15 kB)\n",
            "Requirement already satisfied: packaging>=20.9 in /usr/local/lib/python3.7/dist-packages (from bert_score->easse==0.2.4) (21.3)\n",
            "Requirement already satisfied: pyparsing!=3.0.5,>=2.0.2 in /usr/local/lib/python3.7/dist-packages (from packaging>=20.9->bert_score->easse==0.2.4) (3.0.6)\n",
            "Requirement already satisfied: python-dateutil>=2.7.3 in /usr/local/lib/python3.7/dist-packages (from pandas->easse==0.2.4) (2.8.2)\n",
            "Requirement already satisfied: pytz>=2017.2 in /usr/local/lib/python3.7/dist-packages (from pandas->easse==0.2.4) (2018.9)\n",
            "Requirement already satisfied: typing-extensions in /usr/local/lib/python3.7/dist-packages (from torch->simalign@ git+https://github.com/cisnlp/simalign.git->easse==0.2.4) (3.10.0.2)\n",
            "Requirement already satisfied: filelock in /usr/local/lib/python3.7/dist-packages (from transformers->simalign@ git+https://github.com/cisnlp/simalign.git->easse==0.2.4) (3.4.0)\n",
            "Collecting huggingface-hub<1.0,>=0.1.0\n",
            "  Downloading huggingface_hub-0.2.1-py3-none-any.whl (61 kB)\n",
            "\u001b[K     |████████████████████████████████| 61 kB 491 kB/s \n",
            "\u001b[?25hRequirement already satisfied: importlib-metadata in /usr/local/lib/python3.7/dist-packages (from transformers->simalign@ git+https://github.com/cisnlp/simalign.git->easse==0.2.4) (4.8.2)\n",
            "Collecting pyyaml>=5.1\n",
            "  Downloading PyYAML-6.0-cp37-cp37m-manylinux_2_5_x86_64.manylinux1_x86_64.manylinux_2_12_x86_64.manylinux2010_x86_64.whl (596 kB)\n",
            "\u001b[K     |████████████████████████████████| 596 kB 50.8 MB/s \n",
            "\u001b[?25hCollecting tokenizers<0.11,>=0.10.1\n",
            "  Downloading tokenizers-0.10.3-cp37-cp37m-manylinux_2_5_x86_64.manylinux1_x86_64.manylinux_2_12_x86_64.manylinux2010_x86_64.whl (3.3 MB)\n",
            "\u001b[K     |████████████████████████████████| 3.3 MB 37.3 MB/s \n",
            "\u001b[?25hCollecting gitdb<5,>=4.0.1\n",
            "  Downloading gitdb-4.0.9-py3-none-any.whl (63 kB)\n",
            "\u001b[K     |████████████████████████████████| 63 kB 1.5 MB/s \n",
            "\u001b[?25hCollecting smmap<6,>=3.0.1\n",
            "  Downloading smmap-5.0.0-py3-none-any.whl (24 kB)\n",
            "Requirement already satisfied: zipp>=0.5 in /usr/local/lib/python3.7/dist-packages (from importlib-metadata->transformers->simalign@ git+https://github.com/cisnlp/simalign.git->easse==0.2.4) (3.6.0)\n",
            "Requirement already satisfied: cycler>=0.10 in /usr/local/lib/python3.7/dist-packages (from matplotlib->easse==0.2.4) (0.11.0)\n",
            "Requirement already satisfied: kiwisolver>=1.0.1 in /usr/local/lib/python3.7/dist-packages (from matplotlib->easse==0.2.4) (1.3.2)\n",
            "Requirement already satisfied: setuptools in /usr/local/lib/python3.7/dist-packages (from python-Levenshtein->tseval@ git+https://github.com/facebookresearch/text-simplification-evaluation.git->easse==0.2.4) (57.4.0)\n",
            "Requirement already satisfied: threadpoolctl>=2.0.0 in /usr/local/lib/python3.7/dist-packages (from scikit-learn->simalign@ git+https://github.com/cisnlp/simalign.git->easse==0.2.4) (3.0.0)\n",
            "Requirement already satisfied: protobuf in /usr/local/lib/python3.7/dist-packages (from stanfordnlp->easse==0.2.4) (3.17.3)\n",
            "Building wheels for collected packages: simalign, tseval, python-Levenshtein, yattag\n",
            "  Building wheel for simalign (PEP 517) ... \u001b[?25l\u001b[?25hdone\n",
            "  Created wheel for simalign: filename=simalign-0.3-py3-none-any.whl size=8101 sha256=c0f9756d09857f06266fe1ee2ca6ca62a60691bdcae5cb9912553ac336534873\n",
            "  Stored in directory: /tmp/pip-ephem-wheel-cache-dd1w8dai/wheels/7c/fd/e8/feb79b708710c76e78b833a417552cadc858dd3d2ee5897585\n",
            "  Building wheel for tseval (setup.py) ... \u001b[?25l\u001b[?25hdone\n",
            "  Created wheel for tseval: filename=tseval-1.0-py3-none-any.whl size=8536656 sha256=4100152571a97ee1215f1f9aae0db428642918af1446019daa26354f206d7ce6\n",
            "  Stored in directory: /tmp/pip-ephem-wheel-cache-dd1w8dai/wheels/c8/9b/8e/8b58878c2edc1372cb26cecbd0d80a49b3040b4ec9efb498fe\n",
            "  Building wheel for python-Levenshtein (setup.py) ... \u001b[?25l\u001b[?25hdone\n",
            "  Created wheel for python-Levenshtein: filename=python_Levenshtein-0.12.2-cp37-cp37m-linux_x86_64.whl size=149855 sha256=86fda617e477da858447527dade3fe40741c706f5233d897d9da43d387973e3f\n",
            "  Stored in directory: /root/.cache/pip/wheels/05/5f/ca/7c4367734892581bb5ff896f15027a932c551080b2abd3e00d\n",
            "  Building wheel for yattag (setup.py) ... \u001b[?25l\u001b[?25hdone\n",
            "  Created wheel for yattag: filename=yattag-1.14.0-py3-none-any.whl size=15658 sha256=d90a0bd4fdebf7ab08118fd8496f4b9a46b8df03f55d73880159d3bea69bd6d1\n",
            "  Stored in directory: /root/.cache/pip/wheels/4d/32/61/f205e276a280e24c3fca996bd956781b2a0fbad498161e53f4\n",
            "Successfully built simalign tseval python-Levenshtein yattag\n",
            "Installing collected packages: smmap, regex, pyyaml, tokenizers, sacremoses, huggingface-hub, gitdb, transformers, python-Levenshtein, portalocker, nltk, networkx, gitpython, colorama, yattag, tseval, stanfordnlp, simalign, sacrebleu, bert-score, easse\n",
            "  Attempting uninstall: regex\n",
            "    Found existing installation: regex 2019.12.20\n",
            "    Uninstalling regex-2019.12.20:\n",
            "      Successfully uninstalled regex-2019.12.20\n",
            "  Attempting uninstall: pyyaml\n",
            "    Found existing installation: PyYAML 3.13\n",
            "    Uninstalling PyYAML-3.13:\n",
            "      Successfully uninstalled PyYAML-3.13\n",
            "  Attempting uninstall: nltk\n",
            "    Found existing installation: nltk 3.2.5\n",
            "    Uninstalling nltk-3.2.5:\n",
            "      Successfully uninstalled nltk-3.2.5\n",
            "  Attempting uninstall: networkx\n",
            "    Found existing installation: networkx 2.6.3\n",
            "    Uninstalling networkx-2.6.3:\n",
            "      Successfully uninstalled networkx-2.6.3\n",
            "  Running setup.py develop for easse\n",
            "\u001b[31mERROR: pip's dependency resolver does not currently take into account all the packages that are installed. This behaviour is the source of the following dependency conflicts.\n",
            "albumentations 0.1.12 requires imgaug<0.2.7,>=0.2.5, but you have imgaug 0.2.9 which is incompatible.\u001b[0m\n",
            "Successfully installed bert-score-0.3.11 colorama-0.4.4 easse-0.2.4 gitdb-4.0.9 gitpython-3.1.24 huggingface-hub-0.2.1 networkx-2.4 nltk-3.6.7 portalocker-2.3.2 python-Levenshtein-0.12.2 pyyaml-6.0 regex-2021.11.10 sacrebleu-2.0.0 sacremoses-0.0.46 simalign-0.3 smmap-5.0.0 stanfordnlp-0.2.0 tokenizers-0.10.3 transformers-4.15.0 tseval-1.0 yattag-1.14.0\n",
            "/content\n"
          ]
        }
      ],
      "source": [
        "!git clone https://github.com/feralvam/easse.git\n",
        "%cd easse\n",
        "!pip install -e .\n",
        "%cd .."
      ]
    },
    {
      "cell_type": "code",
      "execution_count": 2,
      "metadata": {
        "id": "5EbijL7NuBbH",
        "colab": {
          "base_uri": "https://localhost:8080/",
          "height": 1000
        },
        "outputId": "5b9132cc-e95b-467b-aa9c-02e3e026e2c7"
      },
      "outputs": [
        {
          "output_type": "stream",
          "name": "stdout",
          "text": [
            "Cloning into 'muss'...\n",
            "remote: Enumerating objects: 395, done.\u001b[K\n",
            "remote: Counting objects: 100% (395/395), done.\u001b[K\n",
            "remote: Compressing objects: 100% (235/235), done.\u001b[K\n",
            "remote: Total 395 (delta 188), reused 354 (delta 158), pack-reused 0\u001b[K\n",
            "Receiving objects: 100% (395/395), 5.38 MiB | 18.05 MiB/s, done.\n",
            "Resolving deltas: 100% (188/188), done.\n",
            "/content/muss\n",
            "Obtaining file:///content/muss\n",
            "Collecting easse@ git+git://github.com/feralvam/easse.git\n",
            "  Cloning git://github.com/feralvam/easse.git to /tmp/pip-install-6pgglpio/easse_3312aeae90324a679844328251ed3d9b\n",
            "  Running command git clone -q git://github.com/feralvam/easse.git /tmp/pip-install-6pgglpio/easse_3312aeae90324a679844328251ed3d9b\n",
            "Collecting kenlm@ git+git://github.com/kpu/kenlm.git\n",
            "  Cloning git://github.com/kpu/kenlm.git to /tmp/pip-install-6pgglpio/kenlm_7a1092efcf584bfdb4aebe3347e7d882\n",
            "  Running command git clone -q git://github.com/kpu/kenlm.git /tmp/pip-install-6pgglpio/kenlm_7a1092efcf584bfdb4aebe3347e7d882\n",
            "Requirement already satisfied: numpy>=1.18.1 in /usr/local/lib/python3.7/dist-packages (from muss==1.0) (1.19.5)\n",
            "Requirement already satisfied: pandas>=1.0.3 in /usr/local/lib/python3.7/dist-packages (from muss==1.0) (1.1.5)\n",
            "Requirement already satisfied: nltk>=3.4.3 in /usr/local/lib/python3.7/dist-packages (from muss==1.0) (3.6.7)\n",
            "Requirement already satisfied: tqdm>=4.45.0 in /usr/local/lib/python3.7/dist-packages (from muss==1.0) (4.62.3)\n",
            "Requirement already satisfied: sklearn>=0.0 in /usr/local/lib/python3.7/dist-packages (from muss==1.0) (0.0)\n",
            "Requirement already satisfied: torch>=1.4.0 in /usr/local/lib/python3.7/dist-packages (from muss==1.0) (1.10.0+cu111)\n",
            "Requirement already satisfied: scipy>=1.3.1 in /usr/local/lib/python3.7/dist-packages (from muss==1.0) (1.4.1)\n",
            "Requirement already satisfied: gitpython in /usr/local/lib/python3.7/dist-packages (from muss==1.0) (3.1.24)\n",
            "Requirement already satisfied: spacy<3,>=2.1.3 in /usr/local/lib/python3.7/dist-packages (from muss==1.0) (2.2.4)\n",
            "Requirement already satisfied: joblib>=0.13.2 in /usr/local/lib/python3.7/dist-packages (from muss==1.0) (1.1.0)\n",
            "Requirement already satisfied: python-Levenshtein>=0.12.0 in /usr/local/lib/python3.7/dist-packages (from muss==1.0) (0.12.2)\n",
            "Collecting fairseq==0.10.2\n",
            "  Downloading fairseq-0.10.2-cp37-cp37m-manylinux1_x86_64.whl (1.7 MB)\n",
            "\u001b[K     |████████████████████████████████| 1.7 MB 1.2 MB/s \n",
            "\u001b[?25hCollecting truecase\n",
            "  Downloading truecase-0.0.14-py3-none-any.whl (28.4 MB)\n",
            "\u001b[K     |████████████████████████████████| 28.4 MB 1.8 MB/s \n",
            "\u001b[?25hCollecting sentencepiece>=0.1.83\n",
            "  Downloading sentencepiece-0.1.96-cp37-cp37m-manylinux_2_17_x86_64.manylinux2014_x86_64.whl (1.2 MB)\n",
            "\u001b[K     |████████████████████████████████| 1.2 MB 47.3 MB/s \n",
            "\u001b[?25hCollecting imohash>=1.0.4\n",
            "  Downloading imohash-1.0.4-py2.py3-none-any.whl (8.4 kB)\n",
            "Requirement already satisfied: cachetools>=4.0.0 in /usr/local/lib/python3.7/dist-packages (from muss==1.0) (4.2.4)\n",
            "Requirement already satisfied: dill>=0.3.0 in /usr/local/lib/python3.7/dist-packages (from muss==1.0) (0.3.4)\n",
            "Collecting submitit\n",
            "  Downloading submitit-1.4.1-py3-none-any.whl (70 kB)\n",
            "\u001b[K     |████████████████████████████████| 70 kB 8.3 MB/s \n",
            "\u001b[?25hCollecting faiss-gpu\n",
            "  Downloading faiss_gpu-1.7.1.post3-cp37-cp37m-manylinux_2_17_x86_64.manylinux2014_x86_64.whl (90.1 MB)\n",
            "\u001b[K     |████████████████████████████████| 90.1 MB 19 kB/s \n",
            "\u001b[?25hRequirement already satisfied: sacremoses>=0.0.38 in /usr/local/lib/python3.7/dist-packages (from muss==1.0) (0.0.46)\n",
            "Collecting nevergrad>=0.4.0.post3\n",
            "  Downloading nevergrad-0.4.3.post9-py3-none-any.whl (411 kB)\n",
            "\u001b[K     |████████████████████████████████| 411 kB 53.6 MB/s \n",
            "\u001b[?25hRequirement already satisfied: editdistance>=0.5.3 in /usr/local/lib/python3.7/dist-packages (from muss==1.0) (0.5.3)\n",
            "Requirement already satisfied: tokenizers>=0.5.2 in /usr/local/lib/python3.7/dist-packages (from muss==1.0) (0.10.3)\n",
            "Collecting cachier>=1.2.8\n",
            "  Downloading cachier-1.5.4-py2.py3-none-any.whl (17 kB)\n",
            "Collecting tseval@ git+https://github.com/facebookresearch/text-simplification-evaluation.git\n",
            "  Cloning https://github.com/facebookresearch/text-simplification-evaluation.git to /tmp/pip-install-6pgglpio/tseval_0042e11cadde4f649d6b969a9787d2b1\n",
            "  Running command git clone -q https://github.com/facebookresearch/text-simplification-evaluation.git /tmp/pip-install-6pgglpio/tseval_0042e11cadde4f649d6b969a9787d2b1\n",
            "Collecting simalign@ git+https://github.com/cisnlp/simalign.git\n",
            "  Cloning https://github.com/cisnlp/simalign.git to /tmp/pip-install-6pgglpio/simalign_d8a76b59c96e43089c218f3085883b6a\n",
            "  Running command git clone -q https://github.com/cisnlp/simalign.git /tmp/pip-install-6pgglpio/simalign_d8a76b59c96e43089c218f3085883b6a\n",
            "  Installing build dependencies ... \u001b[?25l\u001b[?25hdone\n",
            "  Getting requirements to build wheel ... \u001b[?25l\u001b[?25hdone\n",
            "    Preparing wheel metadata ... \u001b[?25l\u001b[?25hdone\n",
            "Requirement already satisfied: click in /usr/local/lib/python3.7/dist-packages (from easse@ git+git://github.com/feralvam/easse.git->muss==1.0) (7.1.2)\n",
            "Requirement already satisfied: matplotlib in /usr/local/lib/python3.7/dist-packages (from easse@ git+git://github.com/feralvam/easse.git->muss==1.0) (3.2.2)\n",
            "Requirement already satisfied: requests>=2.21.0 in /usr/local/lib/python3.7/dist-packages (from easse@ git+git://github.com/feralvam/easse.git->muss==1.0) (2.23.0)\n",
            "Requirement already satisfied: sacrebleu>=2.0.0 in /usr/local/lib/python3.7/dist-packages (from easse@ git+git://github.com/feralvam/easse.git->muss==1.0) (2.0.0)\n",
            "Requirement already satisfied: seaborn in /usr/local/lib/python3.7/dist-packages (from easse@ git+git://github.com/feralvam/easse.git->muss==1.0) (0.11.2)\n",
            "Requirement already satisfied: stanfordnlp in /usr/local/lib/python3.7/dist-packages (from easse@ git+git://github.com/feralvam/easse.git->muss==1.0) (0.2.0)\n",
            "Requirement already satisfied: yattag in /usr/local/lib/python3.7/dist-packages (from easse@ git+git://github.com/feralvam/easse.git->muss==1.0) (1.14.0)\n",
            "Requirement already satisfied: plotly>=4.0.0 in /usr/local/lib/python3.7/dist-packages (from easse@ git+git://github.com/feralvam/easse.git->muss==1.0) (4.4.1)\n",
            "Requirement already satisfied: bert_score in /usr/local/lib/python3.7/dist-packages (from easse@ git+git://github.com/feralvam/easse.git->muss==1.0) (0.3.11)\n",
            "Requirement already satisfied: networkx==2.4 in /usr/local/lib/python3.7/dist-packages (from simalign@ git+https://github.com/cisnlp/simalign.git->easse@ git+git://github.com/feralvam/easse.git->muss==1.0) (2.4)\n",
            "Requirement already satisfied: regex in /usr/local/lib/python3.7/dist-packages (from simalign@ git+https://github.com/cisnlp/simalign.git->easse@ git+git://github.com/feralvam/easse.git->muss==1.0) (2021.11.10)\n",
            "Requirement already satisfied: transformers in /usr/local/lib/python3.7/dist-packages (from simalign@ git+https://github.com/cisnlp/simalign.git->easse@ git+git://github.com/feralvam/easse.git->muss==1.0) (4.15.0)\n",
            "Requirement already satisfied: scikit-learn in /usr/local/lib/python3.7/dist-packages (from simalign@ git+https://github.com/cisnlp/simalign.git->easse@ git+git://github.com/feralvam/easse.git->muss==1.0) (1.0.1)\n",
            "Requirement already satisfied: cython in /usr/local/lib/python3.7/dist-packages (from fairseq==0.10.2->muss==1.0) (0.29.24)\n",
            "Requirement already satisfied: cffi in /usr/local/lib/python3.7/dist-packages (from fairseq==0.10.2->muss==1.0) (1.15.0)\n",
            "Collecting hydra-core\n",
            "  Downloading hydra_core-1.1.1-py3-none-any.whl (145 kB)\n",
            "\u001b[K     |████████████████████████████████| 145 kB 46.2 MB/s \n",
            "\u001b[?25hCollecting dataclasses\n",
            "  Downloading dataclasses-0.6-py3-none-any.whl (14 kB)\n",
            "Requirement already satisfied: decorator>=4.3.0 in /usr/local/lib/python3.7/dist-packages (from networkx==2.4->simalign@ git+https://github.com/cisnlp/simalign.git->easse@ git+git://github.com/feralvam/easse.git->muss==1.0) (4.4.2)\n",
            "Requirement already satisfied: portalocker in /usr/local/lib/python3.7/dist-packages (from cachier>=1.2.8->muss==1.0) (2.3.2)\n",
            "Collecting pathtools\n",
            "  Downloading pathtools-0.1.2.tar.gz (11 kB)\n",
            "Collecting watchdog\n",
            "  Downloading watchdog-2.1.6-py3-none-manylinux2014_x86_64.whl (76 kB)\n",
            "\u001b[K     |████████████████████████████████| 76 kB 5.0 MB/s \n",
            "\u001b[?25hCollecting varint>=1.0.2\n",
            "  Downloading varint-1.0.2.tar.gz (1.9 kB)\n",
            "Collecting mmh3>=2.5.1\n",
            "  Downloading mmh3-3.0.0-cp37-cp37m-manylinux2010_x86_64.whl (50 kB)\n",
            "\u001b[K     |████████████████████████████████| 50 kB 6.7 MB/s \n",
            "\u001b[?25hCollecting cma>=2.6.0\n",
            "  Downloading cma-3.1.0-py2.py3-none-any.whl (269 kB)\n",
            "\u001b[K     |████████████████████████████████| 269 kB 45.3 MB/s \n",
            "\u001b[?25hCollecting bayesian-optimization>=1.2.0\n",
            "  Downloading bayesian-optimization-1.2.0.tar.gz (14 kB)\n",
            "Requirement already satisfied: typing-extensions>=3.6.6 in /usr/local/lib/python3.7/dist-packages (from nevergrad>=0.4.0.post3->muss==1.0) (3.10.0.2)\n",
            "Requirement already satisfied: python-dateutil>=2.7.3 in /usr/local/lib/python3.7/dist-packages (from pandas>=1.0.3->muss==1.0) (2.8.2)\n",
            "Requirement already satisfied: pytz>=2017.2 in /usr/local/lib/python3.7/dist-packages (from pandas>=1.0.3->muss==1.0) (2018.9)\n",
            "Requirement already satisfied: six in /usr/local/lib/python3.7/dist-packages (from plotly>=4.0.0->easse@ git+git://github.com/feralvam/easse.git->muss==1.0) (1.15.0)\n",
            "Requirement already satisfied: retrying>=1.3.3 in /usr/local/lib/python3.7/dist-packages (from plotly>=4.0.0->easse@ git+git://github.com/feralvam/easse.git->muss==1.0) (1.3.3)\n",
            "Requirement already satisfied: setuptools in /usr/local/lib/python3.7/dist-packages (from python-Levenshtein>=0.12.0->muss==1.0) (57.4.0)\n",
            "Requirement already satisfied: urllib3!=1.25.0,!=1.25.1,<1.26,>=1.21.1 in /usr/local/lib/python3.7/dist-packages (from requests>=2.21.0->easse@ git+git://github.com/feralvam/easse.git->muss==1.0) (1.24.3)\n",
            "Requirement already satisfied: chardet<4,>=3.0.2 in /usr/local/lib/python3.7/dist-packages (from requests>=2.21.0->easse@ git+git://github.com/feralvam/easse.git->muss==1.0) (3.0.4)\n",
            "Requirement already satisfied: idna<3,>=2.5 in /usr/local/lib/python3.7/dist-packages (from requests>=2.21.0->easse@ git+git://github.com/feralvam/easse.git->muss==1.0) (2.10)\n",
            "Requirement already satisfied: certifi>=2017.4.17 in /usr/local/lib/python3.7/dist-packages (from requests>=2.21.0->easse@ git+git://github.com/feralvam/easse.git->muss==1.0) (2021.10.8)\n",
            "Requirement already satisfied: tabulate>=0.8.9 in /usr/local/lib/python3.7/dist-packages (from sacrebleu>=2.0.0->easse@ git+git://github.com/feralvam/easse.git->muss==1.0) (0.8.9)\n",
            "Requirement already satisfied: colorama in /usr/local/lib/python3.7/dist-packages (from sacrebleu>=2.0.0->easse@ git+git://github.com/feralvam/easse.git->muss==1.0) (0.4.4)\n",
            "Requirement already satisfied: threadpoolctl>=2.0.0 in /usr/local/lib/python3.7/dist-packages (from scikit-learn->simalign@ git+https://github.com/cisnlp/simalign.git->easse@ git+git://github.com/feralvam/easse.git->muss==1.0) (3.0.0)\n",
            "Requirement already satisfied: murmurhash<1.1.0,>=0.28.0 in /usr/local/lib/python3.7/dist-packages (from spacy<3,>=2.1.3->muss==1.0) (1.0.6)\n",
            "Requirement already satisfied: thinc==7.4.0 in /usr/local/lib/python3.7/dist-packages (from spacy<3,>=2.1.3->muss==1.0) (7.4.0)\n",
            "Requirement already satisfied: catalogue<1.1.0,>=0.0.7 in /usr/local/lib/python3.7/dist-packages (from spacy<3,>=2.1.3->muss==1.0) (1.0.0)\n",
            "Requirement already satisfied: blis<0.5.0,>=0.4.0 in /usr/local/lib/python3.7/dist-packages (from spacy<3,>=2.1.3->muss==1.0) (0.4.1)\n",
            "Requirement already satisfied: preshed<3.1.0,>=3.0.2 in /usr/local/lib/python3.7/dist-packages (from spacy<3,>=2.1.3->muss==1.0) (3.0.6)\n",
            "Requirement already satisfied: cymem<2.1.0,>=2.0.2 in /usr/local/lib/python3.7/dist-packages (from spacy<3,>=2.1.3->muss==1.0) (2.0.6)\n",
            "Requirement already satisfied: wasabi<1.1.0,>=0.4.0 in /usr/local/lib/python3.7/dist-packages (from spacy<3,>=2.1.3->muss==1.0) (0.8.2)\n",
            "Requirement already satisfied: srsly<1.1.0,>=1.0.2 in /usr/local/lib/python3.7/dist-packages (from spacy<3,>=2.1.3->muss==1.0) (1.0.5)\n",
            "Requirement already satisfied: plac<1.2.0,>=0.9.6 in /usr/local/lib/python3.7/dist-packages (from spacy<3,>=2.1.3->muss==1.0) (1.1.3)\n",
            "Requirement already satisfied: importlib-metadata>=0.20 in /usr/local/lib/python3.7/dist-packages (from catalogue<1.1.0,>=0.0.7->spacy<3,>=2.1.3->muss==1.0) (4.8.2)\n",
            "Requirement already satisfied: zipp>=0.5 in /usr/local/lib/python3.7/dist-packages (from importlib-metadata>=0.20->catalogue<1.1.0,>=0.0.7->spacy<3,>=2.1.3->muss==1.0) (3.6.0)\n",
            "Requirement already satisfied: packaging>=20.9 in /usr/local/lib/python3.7/dist-packages (from bert_score->easse@ git+git://github.com/feralvam/easse.git->muss==1.0) (21.3)\n",
            "Requirement already satisfied: pyparsing!=3.0.5,>=2.0.2 in /usr/local/lib/python3.7/dist-packages (from packaging>=20.9->bert_score->easse@ git+git://github.com/feralvam/easse.git->muss==1.0) (3.0.6)\n",
            "Requirement already satisfied: huggingface-hub<1.0,>=0.1.0 in /usr/local/lib/python3.7/dist-packages (from transformers->simalign@ git+https://github.com/cisnlp/simalign.git->easse@ git+git://github.com/feralvam/easse.git->muss==1.0) (0.2.1)\n",
            "Requirement already satisfied: pyyaml>=5.1 in /usr/local/lib/python3.7/dist-packages (from transformers->simalign@ git+https://github.com/cisnlp/simalign.git->easse@ git+git://github.com/feralvam/easse.git->muss==1.0) (6.0)\n",
            "Requirement already satisfied: filelock in /usr/local/lib/python3.7/dist-packages (from transformers->simalign@ git+https://github.com/cisnlp/simalign.git->easse@ git+git://github.com/feralvam/easse.git->muss==1.0) (3.4.0)\n",
            "Requirement already satisfied: pycparser in /usr/local/lib/python3.7/dist-packages (from cffi->fairseq==0.10.2->muss==1.0) (2.21)\n",
            "Requirement already satisfied: gitdb<5,>=4.0.1 in /usr/local/lib/python3.7/dist-packages (from gitpython->muss==1.0) (4.0.9)\n",
            "Requirement already satisfied: smmap<6,>=3.0.1 in /usr/local/lib/python3.7/dist-packages (from gitdb<5,>=4.0.1->gitpython->muss==1.0) (5.0.0)\n",
            "Collecting omegaconf==2.1.*\n",
            "  Downloading omegaconf-2.1.1-py3-none-any.whl (74 kB)\n",
            "\u001b[K     |████████████████████████████████| 74 kB 3.3 MB/s \n",
            "\u001b[?25hCollecting antlr4-python3-runtime==4.8\n",
            "  Downloading antlr4-python3-runtime-4.8.tar.gz (112 kB)\n",
            "\u001b[K     |████████████████████████████████| 112 kB 51.9 MB/s \n",
            "\u001b[?25hRequirement already satisfied: importlib-resources in /usr/local/lib/python3.7/dist-packages (from hydra-core->fairseq==0.10.2->muss==1.0) (5.4.0)\n",
            "Requirement already satisfied: cycler>=0.10 in /usr/local/lib/python3.7/dist-packages (from matplotlib->easse@ git+git://github.com/feralvam/easse.git->muss==1.0) (0.11.0)\n",
            "Requirement already satisfied: kiwisolver>=1.0.1 in /usr/local/lib/python3.7/dist-packages (from matplotlib->easse@ git+git://github.com/feralvam/easse.git->muss==1.0) (1.3.2)\n",
            "Requirement already satisfied: protobuf in /usr/local/lib/python3.7/dist-packages (from stanfordnlp->easse@ git+git://github.com/feralvam/easse.git->muss==1.0) (3.17.3)\n",
            "Requirement already satisfied: cloudpickle>=1.2.1 in /usr/local/lib/python3.7/dist-packages (from submitit->muss==1.0) (1.3.0)\n",
            "Building wheels for collected packages: easse, kenlm, bayesian-optimization, varint, antlr4-python3-runtime, pathtools\n",
            "  Building wheel for easse (setup.py) ... \u001b[?25l\u001b[?25hdone\n",
            "  Created wheel for easse: filename=easse-0.2.4-py3-none-any.whl size=17949398 sha256=515a48abc0256068691e38e69e3cd8c2a054a592071b3edc9fffcffe56c3f4ef\n",
            "  Stored in directory: /tmp/pip-ephem-wheel-cache-0o7ugaiz/wheels/44/1b/db/a7e2429513f283e6a7c608fe5b0fe2bf1dc7a6aad6c77f2b70\n",
            "  Building wheel for kenlm (setup.py) ... \u001b[?25l\u001b[?25hdone\n",
            "  Created wheel for kenlm: filename=kenlm-0.0.0-cp37-cp37m-linux_x86_64.whl size=2336528 sha256=5baa557418130d841888a4d078573cc21b1695b9a60f687b944de695e31f0d6b\n",
            "  Stored in directory: /tmp/pip-ephem-wheel-cache-0o7ugaiz/wheels/12/d4/bb/238ba26692cdf5f4f56fcdb46750f1439747f1f909eeef8ad9\n",
            "  Building wheel for bayesian-optimization (setup.py) ... \u001b[?25l\u001b[?25hdone\n",
            "  Created wheel for bayesian-optimization: filename=bayesian_optimization-1.2.0-py3-none-any.whl size=11685 sha256=c19a536a63b9260eec65e370edd4ac2338f2df30764d6a4a0115fbe764f8e46e\n",
            "  Stored in directory: /root/.cache/pip/wheels/fd/9b/71/f127d694e02eb40bcf18c7ae9613b88a6be4470f57a8528c5b\n",
            "  Building wheel for varint (setup.py) ... \u001b[?25l\u001b[?25hdone\n",
            "  Created wheel for varint: filename=varint-1.0.2-py3-none-any.whl size=1979 sha256=d6b2b82b2afb2a8720700f5c0e2b40499cad407bd371220bc32ab7f854455eab\n",
            "  Stored in directory: /root/.cache/pip/wheels/69/21/07/09f1c6a7d9b59377aa6d98da6efdd670f7ca40aabd93d02704\n",
            "  Building wheel for antlr4-python3-runtime (setup.py) ... \u001b[?25l\u001b[?25hdone\n",
            "  Created wheel for antlr4-python3-runtime: filename=antlr4_python3_runtime-4.8-py3-none-any.whl size=141230 sha256=4a93a95934b2fed9920a8e7eb78b7244865d67c490aefe2c09a484a1e3975707\n",
            "  Stored in directory: /root/.cache/pip/wheels/ca/33/b7/336836125fc9bb4ceaa4376d8abca10ca8bc84ddc824baea6c\n",
            "  Building wheel for pathtools (setup.py) ... \u001b[?25l\u001b[?25hdone\n",
            "  Created wheel for pathtools: filename=pathtools-0.1.2-py3-none-any.whl size=8807 sha256=1d0f21d5ee73b15ef7025519a496f0ec6f5121f7acaab5743358d3fe720c42e9\n",
            "  Stored in directory: /root/.cache/pip/wheels/3e/31/09/fa59cef12cdcfecc627b3d24273699f390e71828921b2cbba2\n",
            "Successfully built easse kenlm bayesian-optimization varint antlr4-python3-runtime pathtools\n",
            "Installing collected packages: antlr4-python3-runtime, omegaconf, watchdog, varint, pathtools, mmh3, hydra-core, dataclasses, cma, bayesian-optimization, truecase, submitit, sentencepiece, nevergrad, kenlm, imohash, faiss-gpu, fairseq, easse, cachier, muss\n",
            "  Attempting uninstall: easse\n",
            "    Found existing installation: easse 0.2.4\n",
            "    Can't uninstall 'easse'. No files were found to uninstall.\n",
            "  Running setup.py develop for muss\n",
            "Successfully installed antlr4-python3-runtime-4.8 bayesian-optimization-1.2.0 cachier-1.5.4 cma-3.1.0 dataclasses-0.6 easse-0.2.4 fairseq-0.10.2 faiss-gpu-1.7.1.post3 hydra-core-1.1.1 imohash-1.0.4 kenlm-0.0.0 mmh3-3.0.0 muss-1.0 nevergrad-0.4.3.post9 omegaconf-2.1.1 pathtools-0.1.2 sentencepiece-0.1.96 submitit-1.4.1 truecase-0.0.14 varint-1.0.2 watchdog-2.1.6\n"
          ]
        },
        {
          "output_type": "display_data",
          "data": {
            "application/vnd.colab-display-data+json": {
              "pip_warning": {
                "packages": [
                  "pydevd_plugins"
                ]
              }
            }
          },
          "metadata": {}
        },
        {
          "output_type": "stream",
          "name": "stdout",
          "text": [
            "Collecting en_core_web_md==2.2.5\n",
            "  Downloading https://github.com/explosion/spacy-models/releases/download/en_core_web_md-2.2.5/en_core_web_md-2.2.5.tar.gz (96.4 MB)\n",
            "\u001b[K     |████████████████████████████████| 96.4 MB 1.3 MB/s \n",
            "\u001b[?25hRequirement already satisfied: spacy>=2.2.2 in /usr/local/lib/python3.7/dist-packages (from en_core_web_md==2.2.5) (2.2.4)\n",
            "Requirement already satisfied: plac<1.2.0,>=0.9.6 in /usr/local/lib/python3.7/dist-packages (from spacy>=2.2.2->en_core_web_md==2.2.5) (1.1.3)\n",
            "Requirement already satisfied: srsly<1.1.0,>=1.0.2 in /usr/local/lib/python3.7/dist-packages (from spacy>=2.2.2->en_core_web_md==2.2.5) (1.0.5)\n",
            "Requirement already satisfied: cymem<2.1.0,>=2.0.2 in /usr/local/lib/python3.7/dist-packages (from spacy>=2.2.2->en_core_web_md==2.2.5) (2.0.6)\n",
            "Requirement already satisfied: preshed<3.1.0,>=3.0.2 in /usr/local/lib/python3.7/dist-packages (from spacy>=2.2.2->en_core_web_md==2.2.5) (3.0.6)\n",
            "Requirement already satisfied: catalogue<1.1.0,>=0.0.7 in /usr/local/lib/python3.7/dist-packages (from spacy>=2.2.2->en_core_web_md==2.2.5) (1.0.0)\n",
            "Requirement already satisfied: numpy>=1.15.0 in /usr/local/lib/python3.7/dist-packages (from spacy>=2.2.2->en_core_web_md==2.2.5) (1.19.5)\n",
            "Requirement already satisfied: setuptools in /usr/local/lib/python3.7/dist-packages (from spacy>=2.2.2->en_core_web_md==2.2.5) (57.4.0)\n",
            "Requirement already satisfied: wasabi<1.1.0,>=0.4.0 in /usr/local/lib/python3.7/dist-packages (from spacy>=2.2.2->en_core_web_md==2.2.5) (0.8.2)\n",
            "Requirement already satisfied: requests<3.0.0,>=2.13.0 in /usr/local/lib/python3.7/dist-packages (from spacy>=2.2.2->en_core_web_md==2.2.5) (2.23.0)\n",
            "Requirement already satisfied: thinc==7.4.0 in /usr/local/lib/python3.7/dist-packages (from spacy>=2.2.2->en_core_web_md==2.2.5) (7.4.0)\n",
            "Requirement already satisfied: murmurhash<1.1.0,>=0.28.0 in /usr/local/lib/python3.7/dist-packages (from spacy>=2.2.2->en_core_web_md==2.2.5) (1.0.6)\n",
            "Requirement already satisfied: tqdm<5.0.0,>=4.38.0 in /usr/local/lib/python3.7/dist-packages (from spacy>=2.2.2->en_core_web_md==2.2.5) (4.62.3)\n",
            "Requirement already satisfied: blis<0.5.0,>=0.4.0 in /usr/local/lib/python3.7/dist-packages (from spacy>=2.2.2->en_core_web_md==2.2.5) (0.4.1)\n",
            "Requirement already satisfied: importlib-metadata>=0.20 in /usr/local/lib/python3.7/dist-packages (from catalogue<1.1.0,>=0.0.7->spacy>=2.2.2->en_core_web_md==2.2.5) (4.8.2)\n",
            "Requirement already satisfied: typing-extensions>=3.6.4 in /usr/local/lib/python3.7/dist-packages (from importlib-metadata>=0.20->catalogue<1.1.0,>=0.0.7->spacy>=2.2.2->en_core_web_md==2.2.5) (3.10.0.2)\n",
            "Requirement already satisfied: zipp>=0.5 in /usr/local/lib/python3.7/dist-packages (from importlib-metadata>=0.20->catalogue<1.1.0,>=0.0.7->spacy>=2.2.2->en_core_web_md==2.2.5) (3.6.0)\n",
            "Requirement already satisfied: urllib3!=1.25.0,!=1.25.1,<1.26,>=1.21.1 in /usr/local/lib/python3.7/dist-packages (from requests<3.0.0,>=2.13.0->spacy>=2.2.2->en_core_web_md==2.2.5) (1.24.3)\n",
            "Requirement already satisfied: certifi>=2017.4.17 in /usr/local/lib/python3.7/dist-packages (from requests<3.0.0,>=2.13.0->spacy>=2.2.2->en_core_web_md==2.2.5) (2021.10.8)\n",
            "Requirement already satisfied: idna<3,>=2.5 in /usr/local/lib/python3.7/dist-packages (from requests<3.0.0,>=2.13.0->spacy>=2.2.2->en_core_web_md==2.2.5) (2.10)\n",
            "Requirement already satisfied: chardet<4,>=3.0.2 in /usr/local/lib/python3.7/dist-packages (from requests<3.0.0,>=2.13.0->spacy>=2.2.2->en_core_web_md==2.2.5) (3.0.4)\n",
            "Building wheels for collected packages: en-core-web-md\n",
            "  Building wheel for en-core-web-md (setup.py) ... \u001b[?25l\u001b[?25hdone\n",
            "  Created wheel for en-core-web-md: filename=en_core_web_md-2.2.5-py3-none-any.whl size=98051302 sha256=e10d8250525229105eeef8f3f15c1c4b77c2896ac08c3ef1166054610c7b217f\n",
            "  Stored in directory: /tmp/pip-ephem-wheel-cache-y61_8r1g/wheels/69/c5/b8/4f1c029d89238734311b3269762ab2ee325a42da2ce8edb997\n",
            "Successfully built en-core-web-md\n",
            "Installing collected packages: en-core-web-md\n",
            "Successfully installed en-core-web-md-2.2.5\n",
            "\u001b[38;5;2m✔ Download and installation successful\u001b[0m\n",
            "You can now load the model via spacy.load('en_core_web_md')\n",
            "/content\n"
          ]
        }
      ],
      "source": [
        "!git clone https://github.com/facebookresearch/muss.git\n",
        "%cd muss/\n",
        "!pip install -e .   # Install package\n",
        "!python -m spacy download en_core_web_md\n",
        "%cd .."
      ]
    },
    {
      "cell_type": "markdown",
      "source": [
        "#### Restart runtime before you proceed to import MUSS\n",
        "#### Upload asset_test_dataset.csv from the repo"
      ],
      "metadata": {
        "id": "tj6xAyvHz-7b"
      }
    },
    {
      "cell_type": "code",
      "source": [
        "from typing import List\n",
        "from easse.utils.preprocessing import normalize\n",
        "from easse.utils.text import (\n",
        "    to_sentences,\n",
        "    count_words,\n",
        "    count_syllables_in_sentence,\n",
        ")\n",
        "\n",
        "\n",
        "class FKGLScorer:\n",
        "    \"https://en.wikipedia.org/wiki/Flesch%E2%80%93Kincaid_readability_tests\"\n",
        "\n",
        "    def __init__(self):\n",
        "        self.nb_words = 0\n",
        "        self.nb_syllables = 0\n",
        "        self.nb_sentences = 0\n",
        "\n",
        "    def add(self, text):\n",
        "        for sentence in to_sentences(text):\n",
        "            self.nb_words += count_words(sentence)\n",
        "            self.nb_syllables += count_syllables_in_sentence(sentence)\n",
        "            self.nb_sentences += 1\n",
        "\n",
        "    def score(self):\n",
        "        # Flesch-Kincaid grade level\n",
        "        if self.nb_sentences == 0 or self.nb_words == 0:\n",
        "            return 0\n",
        "        return max(\n",
        "            0,\n",
        "            0.39 * (self.nb_words / self.nb_sentences) + 11.8 * (self.nb_syllables / self.nb_words) - 15.59,\n",
        "        )\n",
        "\n",
        "\n",
        "def corpus_fkgl(sentences: List[str], tokenizer: str = \"13a\"):\n",
        "    scorer = FKGLScorer()\n",
        "    for sentence in sentences:\n",
        "        scorer.add(normalize(sentence, tokenizer=tokenizer))\n",
        "    return scorer.score()"
      ],
      "metadata": {
        "id": "xkrTBuI-4ww-"
      },
      "execution_count": null,
      "outputs": []
    },
    {
      "cell_type": "code",
      "source": [
        "import pandas as pd\n",
        "from muss.simplify import simplify_sentences\n",
        "\n",
        "\n",
        "asset_test = pd.read_csv(\"asset_test_dataset.csv\", encoding=\"utf-8\")\n",
        "pred_sentences = simplify_sentences(asset_test.text.tolist(), model_name=\"muss_en_wikilarge_mined\")\n"
      ],
      "metadata": {
        "colab": {
          "base_uri": "https://localhost:8080/"
        },
        "id": "_mT3Id3NzGTS",
        "outputId": "40d26dc8-5f2a-4e60-bed2-35e7549e89d2"
      },
      "execution_count": 33,
      "outputs": [
        {
          "output_type": "stream",
          "name": "stderr",
          "text": [
            "/usr/local/lib/python3.7/dist-packages/fairseq/search.py:140: UserWarning: __floordiv__ is deprecated, and its behavior will change in a future version of pytorch. It currently rounds toward 0 (like the 'trunc' function NOT 'floor'). This results in incorrect rounding for negative values. To keep the current behavior, use torch.div(a, b, rounding_mode='trunc'), or for actual floor division, use torch.div(a, b, rounding_mode='floor').\n",
            "  beams_buf = indices_buf // vocab_size\n",
            "/usr/local/lib/python3.7/dist-packages/fairseq/sequence_generator.py:651: UserWarning: __floordiv__ is deprecated, and its behavior will change in a future version of pytorch. It currently rounds toward 0 (like the 'trunc' function NOT 'floor'). This results in incorrect rounding for negative values. To keep the current behavior, use torch.div(a, b, rounding_mode='trunc'), or for actual floor division, use torch.div(a, b, rounding_mode='floor').\n",
            "  unfin_idx = idx // beam_size\n"
          ]
        }
      ]
    },
    {
      "cell_type": "code",
      "source": [
        "from easse.sari import corpus_sari\n",
        "\n",
        "corpus_sari(orig_sents=asset_test.text.tolist(),  \n",
        "            sys_sents=pred_sentences, \n",
        "            refs_sents=asset_test[[\"simp_0\",\"simp_1\",\"simp_2\",\"simp_3\",\"simp_4\",\"simp_5\",\"simp_6\",\"simp_7\",\"simp_8\",]].values.T.tolist())\n"
      ],
      "metadata": {
        "colab": {
          "base_uri": "https://localhost:8080/"
        },
        "id": "e0RUEYvezxG6",
        "outputId": "7ea1533a-3ce0-4749-ba2c-3ce20ebe8363"
      },
      "execution_count": 34,
      "outputs": [
        {
          "output_type": "execute_result",
          "data": {
            "text/plain": [
              "43.61110533872386"
            ]
          },
          "metadata": {},
          "execution_count": 34
        }
      ]
    },
    {
      "cell_type": "code",
      "source": [
        "corpus_fkgl(pred_sentences)"
      ],
      "metadata": {
        "colab": {
          "base_uri": "https://localhost:8080/"
        },
        "id": "1_miU0h84yZ9",
        "outputId": "4f64e103-6ca6-4fd2-a2f5-b567bd2f1035"
      },
      "execution_count": 36,
      "outputs": [
        {
          "output_type": "execute_result",
          "data": {
            "text/plain": [
              "5.460015407376282"
            ]
          },
          "metadata": {},
          "execution_count": 36
        }
      ]
    },
    {
      "cell_type": "code",
      "source": [
        "asset_test[\"preds\"] = pred_sentences"
      ],
      "metadata": {
        "id": "RdEm3Jxf52x2"
      },
      "execution_count": 40,
      "outputs": []
    },
    {
      "cell_type": "code",
      "source": [
        "turkcorpus_test = pd.read_csv(\"turkcorpus_test_dataset.csv\", encoding=\"utf-8\").dropna()\n",
        "pred_sentences = simplify_sentences(turkcorpus_test.text.tolist(), model_name=\"muss_en_wikilarge_mined\")\n"
      ],
      "metadata": {
        "colab": {
          "base_uri": "https://localhost:8080/"
        },
        "id": "9dxiQrXpzzRB",
        "outputId": "4f526595-763b-4b2e-a76b-7bf91021d2b6"
      },
      "execution_count": 41,
      "outputs": [
        {
          "output_type": "stream",
          "name": "stderr",
          "text": [
            "/usr/local/lib/python3.7/dist-packages/fairseq/search.py:140: UserWarning: __floordiv__ is deprecated, and its behavior will change in a future version of pytorch. It currently rounds toward 0 (like the 'trunc' function NOT 'floor'). This results in incorrect rounding for negative values. To keep the current behavior, use torch.div(a, b, rounding_mode='trunc'), or for actual floor division, use torch.div(a, b, rounding_mode='floor').\n",
            "  beams_buf = indices_buf // vocab_size\n",
            "/usr/local/lib/python3.7/dist-packages/fairseq/sequence_generator.py:651: UserWarning: __floordiv__ is deprecated, and its behavior will change in a future version of pytorch. It currently rounds toward 0 (like the 'trunc' function NOT 'floor'). This results in incorrect rounding for negative values. To keep the current behavior, use torch.div(a, b, rounding_mode='trunc'), or for actual floor division, use torch.div(a, b, rounding_mode='floor').\n",
            "  unfin_idx = idx // beam_size\n"
          ]
        }
      ]
    },
    {
      "cell_type": "code",
      "source": [
        "corpus_sari(orig_sents=turkcorpus_test.text.tolist(),  \n",
        "            sys_sents=pred_sentences, \n",
        "            refs_sents=turkcorpus_test[[\"simp_0\",\"simp_1\",\"simp_2\",\"simp_3\",\"simp_4\",\"simp_5\",\"simp_6\",\"simp_7\",]].values.T.tolist())\n"
      ],
      "metadata": {
        "colab": {
          "base_uri": "https://localhost:8080/"
        },
        "id": "Bm6CGaPs2Haq",
        "outputId": "123d6b64-2974-46ba-a72b-5cd71d3eb950"
      },
      "execution_count": 42,
      "outputs": [
        {
          "output_type": "execute_result",
          "data": {
            "text/plain": [
              "38.929465037007496"
            ]
          },
          "metadata": {},
          "execution_count": 42
        }
      ]
    },
    {
      "cell_type": "code",
      "source": [
        "corpus_fkgl(pred_sentences)"
      ],
      "metadata": {
        "colab": {
          "base_uri": "https://localhost:8080/"
        },
        "id": "mkbiR2Uh34ZV",
        "outputId": "ef96c2b1-5959-4aef-a6a6-e3f2c0da90b4"
      },
      "execution_count": 43,
      "outputs": [
        {
          "output_type": "execute_result",
          "data": {
            "text/plain": [
              "5.460015407376282"
            ]
          },
          "metadata": {},
          "execution_count": 43
        }
      ]
    },
    {
      "cell_type": "code",
      "source": [
        ""
      ],
      "metadata": {
        "id": "UWgGMm4I367d"
      },
      "execution_count": 44,
      "outputs": []
    },
    {
      "cell_type": "code",
      "source": [
        ""
      ],
      "metadata": {
        "id": "0qLlR-aq38dy"
      },
      "execution_count": null,
      "outputs": []
    }
  ],
  "metadata": {
    "accelerator": "GPU",
    "colab": {
      "name": "evaluate MUSS.ipynb",
      "provenance": [],
      "collapsed_sections": []
    },
    "kernelspec": {
      "display_name": "Python 3",
      "name": "python3"
    },
    "language_info": {
      "name": "python"
    }
  },
  "nbformat": 4,
  "nbformat_minor": 0
}