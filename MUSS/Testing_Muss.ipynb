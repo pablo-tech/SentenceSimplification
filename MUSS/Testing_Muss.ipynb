{
  "nbformat": 4,
  "nbformat_minor": 0,
  "metadata": {
    "colab": {
      "name": "Testing Muss.ipynb",
      "provenance": [],
      "collapsed_sections": []
    },
    "kernelspec": {
      "name": "python3",
      "display_name": "Python 3"
    },
    "language_info": {
      "name": "python"
    },
    "accelerator": "GPU"
  },
  "cells": [
    {
      "cell_type": "code",
      "execution_count": null,
      "metadata": {
        "colab": {
          "base_uri": "https://localhost:8080/",
          "height": 1000
        },
        "id": "XHhKlLTi9QTR",
        "outputId": "a5776109-7eb3-4a51-8d67-886475a7b82d"
      },
      "outputs": [
        {
          "output_type": "stream",
          "name": "stdout",
          "text": [
            "Cloning into 'muss'...\n",
            "remote: Enumerating objects: 395, done.\u001b[K\n",
            "remote: Counting objects: 100% (395/395), done.\u001b[K\n",
            "remote: Compressing objects: 100% (235/235), done.\u001b[K\n",
            "remote: Total 395 (delta 188), reused 354 (delta 158), pack-reused 0\u001b[K\n",
            "Receiving objects: 100% (395/395), 5.38 MiB | 15.09 MiB/s, done.\n",
            "Resolving deltas: 100% (188/188), done.\n",
            "/content/muss\n",
            "Obtaining file:///content/muss\n",
            "Collecting easse@ git+git://github.com/feralvam/easse.git\n",
            "  Cloning git://github.com/feralvam/easse.git to /tmp/pip-install-kd7txx4c/easse_296a4212a94446f884a2d5dd1cbff494\n",
            "  Running command git clone -q git://github.com/feralvam/easse.git /tmp/pip-install-kd7txx4c/easse_296a4212a94446f884a2d5dd1cbff494\n",
            "Collecting kenlm@ git+git://github.com/kpu/kenlm.git\n",
            "  Cloning git://github.com/kpu/kenlm.git to /tmp/pip-install-kd7txx4c/kenlm_d04ab8eb077d42a8a9c1114dbccbdefd\n",
            "  Running command git clone -q git://github.com/kpu/kenlm.git /tmp/pip-install-kd7txx4c/kenlm_d04ab8eb077d42a8a9c1114dbccbdefd\n",
            "Requirement already satisfied: numpy>=1.18.1 in /usr/local/lib/python3.7/dist-packages (from muss==1.0) (1.19.5)\n",
            "Requirement already satisfied: pandas>=1.0.3 in /usr/local/lib/python3.7/dist-packages (from muss==1.0) (1.1.5)\n",
            "Collecting nltk>=3.4.3\n",
            "  Downloading nltk-3.6.7-py3-none-any.whl (1.5 MB)\n",
            "\u001b[K     |████████████████████████████████| 1.5 MB 5.4 MB/s \n",
            "\u001b[?25hRequirement already satisfied: tqdm>=4.45.0 in /usr/local/lib/python3.7/dist-packages (from muss==1.0) (4.62.3)\n",
            "Requirement already satisfied: sklearn>=0.0 in /usr/local/lib/python3.7/dist-packages (from muss==1.0) (0.0)\n",
            "Requirement already satisfied: torch>=1.4.0 in /usr/local/lib/python3.7/dist-packages (from muss==1.0) (1.10.0+cu111)\n",
            "Requirement already satisfied: scipy>=1.3.1 in /usr/local/lib/python3.7/dist-packages (from muss==1.0) (1.4.1)\n",
            "Collecting gitpython\n",
            "  Downloading GitPython-3.1.24-py3-none-any.whl (180 kB)\n",
            "\u001b[K     |████████████████████████████████| 180 kB 43.7 MB/s \n",
            "\u001b[?25hRequirement already satisfied: spacy<3,>=2.1.3 in /usr/local/lib/python3.7/dist-packages (from muss==1.0) (2.2.4)\n",
            "Requirement already satisfied: joblib>=0.13.2 in /usr/local/lib/python3.7/dist-packages (from muss==1.0) (1.1.0)\n",
            "Collecting python-Levenshtein>=0.12.0\n",
            "  Downloading python-Levenshtein-0.12.2.tar.gz (50 kB)\n",
            "\u001b[K     |████████████████████████████████| 50 kB 6.2 MB/s \n",
            "\u001b[?25hCollecting fairseq==0.10.2\n",
            "  Downloading fairseq-0.10.2-cp37-cp37m-manylinux1_x86_64.whl (1.7 MB)\n",
            "\u001b[K     |████████████████████████████████| 1.7 MB 34.4 MB/s \n",
            "\u001b[?25hCollecting truecase\n",
            "  Downloading truecase-0.0.14-py3-none-any.whl (28.4 MB)\n",
            "\u001b[K     |████████████████████████████████| 28.4 MB 90 kB/s \n",
            "\u001b[?25hCollecting sentencepiece>=0.1.83\n",
            "  Downloading sentencepiece-0.1.96-cp37-cp37m-manylinux_2_17_x86_64.manylinux2014_x86_64.whl (1.2 MB)\n",
            "\u001b[K     |████████████████████████████████| 1.2 MB 41.6 MB/s \n",
            "\u001b[?25hCollecting imohash>=1.0.4\n",
            "  Downloading imohash-1.0.4-py2.py3-none-any.whl (8.4 kB)\n",
            "Requirement already satisfied: cachetools>=4.0.0 in /usr/local/lib/python3.7/dist-packages (from muss==1.0) (4.2.4)\n",
            "Requirement already satisfied: dill>=0.3.0 in /usr/local/lib/python3.7/dist-packages (from muss==1.0) (0.3.4)\n",
            "Collecting submitit\n",
            "  Downloading submitit-1.4.1-py3-none-any.whl (70 kB)\n",
            "\u001b[K     |████████████████████████████████| 70 kB 7.2 MB/s \n",
            "\u001b[?25hCollecting faiss-gpu\n",
            "  Downloading faiss_gpu-1.7.1.post3-cp37-cp37m-manylinux_2_17_x86_64.manylinux2014_x86_64.whl (90.1 MB)\n",
            "\u001b[K     |████████████████████████████████| 90.1 MB 25 kB/s \n",
            "\u001b[?25hCollecting sacremoses>=0.0.38\n",
            "  Downloading sacremoses-0.0.46-py3-none-any.whl (895 kB)\n",
            "\u001b[K     |████████████████████████████████| 895 kB 47.5 MB/s \n",
            "\u001b[?25hCollecting nevergrad>=0.4.0.post3\n",
            "  Downloading nevergrad-0.4.3.post9-py3-none-any.whl (411 kB)\n",
            "\u001b[K     |████████████████████████████████| 411 kB 47.1 MB/s \n",
            "\u001b[?25hRequirement already satisfied: editdistance>=0.5.3 in /usr/local/lib/python3.7/dist-packages (from muss==1.0) (0.5.3)\n",
            "Collecting tokenizers>=0.5.2\n",
            "  Downloading tokenizers-0.11.2-cp37-cp37m-manylinux_2_12_x86_64.manylinux2010_x86_64.whl (6.8 MB)\n",
            "\u001b[K     |████████████████████████████████| 6.8 MB 35.2 MB/s \n",
            "\u001b[?25hCollecting cachier>=1.2.8\n",
            "  Downloading cachier-1.5.4-py2.py3-none-any.whl (17 kB)\n",
            "Collecting tseval@ git+https://github.com/facebookresearch/text-simplification-evaluation.git\n",
            "  Cloning https://github.com/facebookresearch/text-simplification-evaluation.git to /tmp/pip-install-kd7txx4c/tseval_b1b2818b58e740a0acaf6191b3224c82\n",
            "  Running command git clone -q https://github.com/facebookresearch/text-simplification-evaluation.git /tmp/pip-install-kd7txx4c/tseval_b1b2818b58e740a0acaf6191b3224c82\n",
            "Collecting simalign@ git+https://github.com/cisnlp/simalign.git\n",
            "  Cloning https://github.com/cisnlp/simalign.git to /tmp/pip-install-kd7txx4c/simalign_c37b3a52e4e6433b9ace0e55c1425cb2\n",
            "  Running command git clone -q https://github.com/cisnlp/simalign.git /tmp/pip-install-kd7txx4c/simalign_c37b3a52e4e6433b9ace0e55c1425cb2\n",
            "  Installing build dependencies ... \u001b[?25l\u001b[?25hdone\n",
            "  Getting requirements to build wheel ... \u001b[?25l\u001b[?25hdone\n",
            "    Preparing wheel metadata ... \u001b[?25l\u001b[?25hdone\n",
            "Requirement already satisfied: click in /usr/local/lib/python3.7/dist-packages (from easse@ git+git://github.com/feralvam/easse.git->muss==1.0) (7.1.2)\n",
            "Requirement already satisfied: matplotlib in /usr/local/lib/python3.7/dist-packages (from easse@ git+git://github.com/feralvam/easse.git->muss==1.0) (3.2.2)\n",
            "Requirement already satisfied: requests>=2.21.0 in /usr/local/lib/python3.7/dist-packages (from easse@ git+git://github.com/feralvam/easse.git->muss==1.0) (2.23.0)\n",
            "Collecting sacrebleu>=2.0.0\n",
            "  Downloading sacrebleu-2.0.0-py3-none-any.whl (90 kB)\n",
            "\u001b[K     |████████████████████████████████| 90 kB 8.4 MB/s \n",
            "\u001b[?25hRequirement already satisfied: seaborn in /usr/local/lib/python3.7/dist-packages (from easse@ git+git://github.com/feralvam/easse.git->muss==1.0) (0.11.2)\n",
            "Collecting stanfordnlp\n",
            "  Downloading stanfordnlp-0.2.0-py3-none-any.whl (158 kB)\n",
            "\u001b[K     |████████████████████████████████| 158 kB 45.5 MB/s \n",
            "\u001b[?25hCollecting yattag\n",
            "  Downloading yattag-1.14.0.tar.gz (26 kB)\n",
            "Requirement already satisfied: plotly>=4.0.0 in /usr/local/lib/python3.7/dist-packages (from easse@ git+git://github.com/feralvam/easse.git->muss==1.0) (4.4.1)\n",
            "Collecting bert_score\n",
            "  Downloading bert_score-0.3.11-py3-none-any.whl (60 kB)\n",
            "\u001b[K     |████████████████████████████████| 60 kB 5.8 MB/s \n",
            "\u001b[?25hRequirement already satisfied: regex in /usr/local/lib/python3.7/dist-packages (from simalign@ git+https://github.com/cisnlp/simalign.git->easse@ git+git://github.com/feralvam/easse.git->muss==1.0) (2019.12.20)\n",
            "Collecting networkx==2.4\n",
            "  Downloading networkx-2.4-py3-none-any.whl (1.6 MB)\n",
            "\u001b[K     |████████████████████████████████| 1.6 MB 37.3 MB/s \n",
            "\u001b[?25hCollecting transformers\n",
            "  Downloading transformers-4.15.0-py3-none-any.whl (3.4 MB)\n",
            "\u001b[K     |████████████████████████████████| 3.4 MB 26.4 MB/s \n",
            "\u001b[?25hRequirement already satisfied: scikit-learn in /usr/local/lib/python3.7/dist-packages (from simalign@ git+https://github.com/cisnlp/simalign.git->easse@ git+git://github.com/feralvam/easse.git->muss==1.0) (1.0.1)\n",
            "Requirement already satisfied: cffi in /usr/local/lib/python3.7/dist-packages (from fairseq==0.10.2->muss==1.0) (1.15.0)\n",
            "Collecting dataclasses\n",
            "  Downloading dataclasses-0.6-py3-none-any.whl (14 kB)\n",
            "Requirement already satisfied: cython in /usr/local/lib/python3.7/dist-packages (from fairseq==0.10.2->muss==1.0) (0.29.24)\n",
            "Collecting hydra-core\n",
            "  Downloading hydra_core-1.1.1-py3-none-any.whl (145 kB)\n",
            "\u001b[K     |████████████████████████████████| 145 kB 44.6 MB/s \n",
            "\u001b[?25hRequirement already satisfied: decorator>=4.3.0 in /usr/local/lib/python3.7/dist-packages (from networkx==2.4->simalign@ git+https://github.com/cisnlp/simalign.git->easse@ git+git://github.com/feralvam/easse.git->muss==1.0) (4.4.2)\n",
            "Collecting portalocker\n",
            "  Downloading portalocker-2.3.2-py2.py3-none-any.whl (15 kB)\n",
            "Collecting pathtools\n",
            "  Downloading pathtools-0.1.2.tar.gz (11 kB)\n",
            "Collecting watchdog\n",
            "  Downloading watchdog-2.1.6-py3-none-manylinux2014_x86_64.whl (76 kB)\n",
            "\u001b[K     |████████████████████████████████| 76 kB 4.3 MB/s \n",
            "\u001b[?25hCollecting varint>=1.0.2\n",
            "  Downloading varint-1.0.2.tar.gz (1.9 kB)\n",
            "Collecting mmh3>=2.5.1\n",
            "  Downloading mmh3-3.0.0-cp37-cp37m-manylinux2010_x86_64.whl (50 kB)\n",
            "\u001b[K     |████████████████████████████████| 50 kB 6.2 MB/s \n",
            "\u001b[?25hCollecting cma>=2.6.0\n",
            "  Downloading cma-3.1.0-py2.py3-none-any.whl (269 kB)\n",
            "\u001b[K     |████████████████████████████████| 269 kB 46.8 MB/s \n",
            "\u001b[?25hCollecting bayesian-optimization>=1.2.0\n",
            "  Downloading bayesian-optimization-1.2.0.tar.gz (14 kB)\n",
            "Requirement already satisfied: typing-extensions>=3.6.6 in /usr/local/lib/python3.7/dist-packages (from nevergrad>=0.4.0.post3->muss==1.0) (3.10.0.2)\n",
            "Collecting regex\n",
            "  Downloading regex-2021.11.10-cp37-cp37m-manylinux_2_17_x86_64.manylinux2014_x86_64.whl (749 kB)\n",
            "\u001b[K     |████████████████████████████████| 749 kB 43.0 MB/s \n",
            "\u001b[?25hRequirement already satisfied: python-dateutil>=2.7.3 in /usr/local/lib/python3.7/dist-packages (from pandas>=1.0.3->muss==1.0) (2.8.2)\n",
            "Requirement already satisfied: pytz>=2017.2 in /usr/local/lib/python3.7/dist-packages (from pandas>=1.0.3->muss==1.0) (2018.9)\n",
            "Requirement already satisfied: six in /usr/local/lib/python3.7/dist-packages (from plotly>=4.0.0->easse@ git+git://github.com/feralvam/easse.git->muss==1.0) (1.15.0)\n",
            "Requirement already satisfied: retrying>=1.3.3 in /usr/local/lib/python3.7/dist-packages (from plotly>=4.0.0->easse@ git+git://github.com/feralvam/easse.git->muss==1.0) (1.3.3)\n",
            "Requirement already satisfied: setuptools in /usr/local/lib/python3.7/dist-packages (from python-Levenshtein>=0.12.0->muss==1.0) (57.4.0)\n",
            "Requirement already satisfied: idna<3,>=2.5 in /usr/local/lib/python3.7/dist-packages (from requests>=2.21.0->easse@ git+git://github.com/feralvam/easse.git->muss==1.0) (2.10)\n",
            "Requirement already satisfied: urllib3!=1.25.0,!=1.25.1,<1.26,>=1.21.1 in /usr/local/lib/python3.7/dist-packages (from requests>=2.21.0->easse@ git+git://github.com/feralvam/easse.git->muss==1.0) (1.24.3)\n",
            "Requirement already satisfied: chardet<4,>=3.0.2 in /usr/local/lib/python3.7/dist-packages (from requests>=2.21.0->easse@ git+git://github.com/feralvam/easse.git->muss==1.0) (3.0.4)\n",
            "Requirement already satisfied: certifi>=2017.4.17 in /usr/local/lib/python3.7/dist-packages (from requests>=2.21.0->easse@ git+git://github.com/feralvam/easse.git->muss==1.0) (2021.10.8)\n",
            "Requirement already satisfied: tabulate>=0.8.9 in /usr/local/lib/python3.7/dist-packages (from sacrebleu>=2.0.0->easse@ git+git://github.com/feralvam/easse.git->muss==1.0) (0.8.9)\n",
            "Collecting colorama\n",
            "  Downloading colorama-0.4.4-py2.py3-none-any.whl (16 kB)\n",
            "Requirement already satisfied: threadpoolctl>=2.0.0 in /usr/local/lib/python3.7/dist-packages (from scikit-learn->simalign@ git+https://github.com/cisnlp/simalign.git->easse@ git+git://github.com/feralvam/easse.git->muss==1.0) (3.0.0)\n",
            "Requirement already satisfied: plac<1.2.0,>=0.9.6 in /usr/local/lib/python3.7/dist-packages (from spacy<3,>=2.1.3->muss==1.0) (1.1.3)\n",
            "Requirement already satisfied: wasabi<1.1.0,>=0.4.0 in /usr/local/lib/python3.7/dist-packages (from spacy<3,>=2.1.3->muss==1.0) (0.8.2)\n",
            "Requirement already satisfied: thinc==7.4.0 in /usr/local/lib/python3.7/dist-packages (from spacy<3,>=2.1.3->muss==1.0) (7.4.0)\n",
            "Requirement already satisfied: murmurhash<1.1.0,>=0.28.0 in /usr/local/lib/python3.7/dist-packages (from spacy<3,>=2.1.3->muss==1.0) (1.0.6)\n",
            "Requirement already satisfied: srsly<1.1.0,>=1.0.2 in /usr/local/lib/python3.7/dist-packages (from spacy<3,>=2.1.3->muss==1.0) (1.0.5)\n",
            "Requirement already satisfied: cymem<2.1.0,>=2.0.2 in /usr/local/lib/python3.7/dist-packages (from spacy<3,>=2.1.3->muss==1.0) (2.0.6)\n",
            "Requirement already satisfied: catalogue<1.1.0,>=0.0.7 in /usr/local/lib/python3.7/dist-packages (from spacy<3,>=2.1.3->muss==1.0) (1.0.0)\n",
            "Requirement already satisfied: preshed<3.1.0,>=3.0.2 in /usr/local/lib/python3.7/dist-packages (from spacy<3,>=2.1.3->muss==1.0) (3.0.6)\n",
            "Requirement already satisfied: blis<0.5.0,>=0.4.0 in /usr/local/lib/python3.7/dist-packages (from spacy<3,>=2.1.3->muss==1.0) (0.4.1)\n",
            "Requirement already satisfied: importlib-metadata>=0.20 in /usr/local/lib/python3.7/dist-packages (from catalogue<1.1.0,>=0.0.7->spacy<3,>=2.1.3->muss==1.0) (4.8.2)\n",
            "Requirement already satisfied: zipp>=0.5 in /usr/local/lib/python3.7/dist-packages (from importlib-metadata>=0.20->catalogue<1.1.0,>=0.0.7->spacy<3,>=2.1.3->muss==1.0) (3.6.0)\n",
            "Requirement already satisfied: packaging>=20.9 in /usr/local/lib/python3.7/dist-packages (from bert_score->easse@ git+git://github.com/feralvam/easse.git->muss==1.0) (21.3)\n",
            "Requirement already satisfied: pyparsing!=3.0.5,>=2.0.2 in /usr/local/lib/python3.7/dist-packages (from packaging>=20.9->bert_score->easse@ git+git://github.com/feralvam/easse.git->muss==1.0) (3.0.6)\n",
            "Collecting pyyaml>=5.1\n",
            "  Downloading PyYAML-6.0-cp37-cp37m-manylinux_2_5_x86_64.manylinux1_x86_64.manylinux_2_12_x86_64.manylinux2010_x86_64.whl (596 kB)\n",
            "\u001b[K     |████████████████████████████████| 596 kB 32.1 MB/s \n",
            "\u001b[?25hRequirement already satisfied: filelock in /usr/local/lib/python3.7/dist-packages (from transformers->simalign@ git+https://github.com/cisnlp/simalign.git->easse@ git+git://github.com/feralvam/easse.git->muss==1.0) (3.4.0)\n",
            "Collecting huggingface-hub<1.0,>=0.1.0\n",
            "  Downloading huggingface_hub-0.2.1-py3-none-any.whl (61 kB)\n",
            "\u001b[K     |████████████████████████████████| 61 kB 473 kB/s \n",
            "\u001b[?25hCollecting tokenizers>=0.5.2\n",
            "  Downloading tokenizers-0.10.3-cp37-cp37m-manylinux_2_5_x86_64.manylinux1_x86_64.manylinux_2_12_x86_64.manylinux2010_x86_64.whl (3.3 MB)\n",
            "\u001b[K     |████████████████████████████████| 3.3 MB 36.2 MB/s \n",
            "\u001b[?25hRequirement already satisfied: pycparser in /usr/local/lib/python3.7/dist-packages (from cffi->fairseq==0.10.2->muss==1.0) (2.21)\n",
            "Collecting gitdb<5,>=4.0.1\n",
            "  Downloading gitdb-4.0.9-py3-none-any.whl (63 kB)\n",
            "\u001b[K     |████████████████████████████████| 63 kB 1.6 MB/s \n",
            "\u001b[?25hCollecting smmap<6,>=3.0.1\n",
            "  Downloading smmap-5.0.0-py3-none-any.whl (24 kB)\n",
            "Requirement already satisfied: importlib-resources in /usr/local/lib/python3.7/dist-packages (from hydra-core->fairseq==0.10.2->muss==1.0) (5.4.0)\n",
            "Collecting omegaconf==2.1.*\n",
            "  Downloading omegaconf-2.1.1-py3-none-any.whl (74 kB)\n",
            "\u001b[K     |████████████████████████████████| 74 kB 3.1 MB/s \n",
            "\u001b[?25hCollecting antlr4-python3-runtime==4.8\n",
            "  Downloading antlr4-python3-runtime-4.8.tar.gz (112 kB)\n",
            "\u001b[K     |████████████████████████████████| 112 kB 49.9 MB/s \n",
            "\u001b[?25hRequirement already satisfied: kiwisolver>=1.0.1 in /usr/local/lib/python3.7/dist-packages (from matplotlib->easse@ git+git://github.com/feralvam/easse.git->muss==1.0) (1.3.2)\n",
            "Requirement already satisfied: cycler>=0.10 in /usr/local/lib/python3.7/dist-packages (from matplotlib->easse@ git+git://github.com/feralvam/easse.git->muss==1.0) (0.11.0)\n",
            "Requirement already satisfied: protobuf in /usr/local/lib/python3.7/dist-packages (from stanfordnlp->easse@ git+git://github.com/feralvam/easse.git->muss==1.0) (3.17.3)\n",
            "Requirement already satisfied: cloudpickle>=1.2.1 in /usr/local/lib/python3.7/dist-packages (from submitit->muss==1.0) (1.3.0)\n",
            "Building wheels for collected packages: easse, kenlm, simalign, tseval, bayesian-optimization, python-Levenshtein, varint, antlr4-python3-runtime, pathtools, yattag\n",
            "  Building wheel for easse (setup.py) ... \u001b[?25l\u001b[?25hdone\n",
            "  Created wheel for easse: filename=easse-0.2.4-py3-none-any.whl size=17949398 sha256=edecef97388d9f2b6b54e0a59819e6a15fecbe6cac4e2c275c42ce2384a86f87\n",
            "  Stored in directory: /tmp/pip-ephem-wheel-cache-zaev1qv1/wheels/44/1b/db/a7e2429513f283e6a7c608fe5b0fe2bf1dc7a6aad6c77f2b70\n",
            "  Building wheel for kenlm (setup.py) ... \u001b[?25l\u001b[?25hdone\n",
            "  Created wheel for kenlm: filename=kenlm-0.0.0-cp37-cp37m-linux_x86_64.whl size=2333253 sha256=40f5c400d72e9718c15f54d16ce5500328440fecd663df8d6330afb18f179082\n",
            "  Stored in directory: /tmp/pip-ephem-wheel-cache-zaev1qv1/wheels/12/d4/bb/238ba26692cdf5f4f56fcdb46750f1439747f1f909eeef8ad9\n",
            "  Building wheel for simalign (PEP 517) ... \u001b[?25l\u001b[?25hdone\n",
            "  Created wheel for simalign: filename=simalign-0.3-py3-none-any.whl size=8101 sha256=6718905522a416b172ddb3e5c9dca8ee3d9da9ace3493d057fdba716561f53bf\n",
            "  Stored in directory: /tmp/pip-ephem-wheel-cache-zaev1qv1/wheels/7c/fd/e8/feb79b708710c76e78b833a417552cadc858dd3d2ee5897585\n",
            "  Building wheel for tseval (setup.py) ... \u001b[?25l\u001b[?25hdone\n",
            "  Created wheel for tseval: filename=tseval-1.0-py3-none-any.whl size=8536656 sha256=d63a50bb4eba24c2c6305af31c8f61a71b27a7c4d7bd914d69c960e7378161e1\n",
            "  Stored in directory: /tmp/pip-ephem-wheel-cache-zaev1qv1/wheels/c8/9b/8e/8b58878c2edc1372cb26cecbd0d80a49b3040b4ec9efb498fe\n",
            "  Building wheel for bayesian-optimization (setup.py) ... \u001b[?25l\u001b[?25hdone\n",
            "  Created wheel for bayesian-optimization: filename=bayesian_optimization-1.2.0-py3-none-any.whl size=11685 sha256=84b7e43c39934365dd698e3c22b7728d852406327f4e39868989dd08ea2db566\n",
            "  Stored in directory: /root/.cache/pip/wheels/fd/9b/71/f127d694e02eb40bcf18c7ae9613b88a6be4470f57a8528c5b\n",
            "  Building wheel for python-Levenshtein (setup.py) ... \u001b[?25l\u001b[?25hdone\n",
            "  Created wheel for python-Levenshtein: filename=python_Levenshtein-0.12.2-cp37-cp37m-linux_x86_64.whl size=149871 sha256=c8d728b8b7b305abcb5f4d0d030da2b05f7c81ca5a06bb592d35d3e6bdbbc34c\n",
            "  Stored in directory: /root/.cache/pip/wheels/05/5f/ca/7c4367734892581bb5ff896f15027a932c551080b2abd3e00d\n",
            "  Building wheel for varint (setup.py) ... \u001b[?25l\u001b[?25hdone\n",
            "  Created wheel for varint: filename=varint-1.0.2-py3-none-any.whl size=1979 sha256=c2e44870cffff76e06bc1ab84bc09481ebb0203ba29fff790aba86a66108e97a\n",
            "  Stored in directory: /root/.cache/pip/wheels/69/21/07/09f1c6a7d9b59377aa6d98da6efdd670f7ca40aabd93d02704\n",
            "  Building wheel for antlr4-python3-runtime (setup.py) ... \u001b[?25l\u001b[?25hdone\n",
            "  Created wheel for antlr4-python3-runtime: filename=antlr4_python3_runtime-4.8-py3-none-any.whl size=141230 sha256=640d1ef86809a0e936320f6085e4de7d75ef888e6573a97d72b626968d73381f\n",
            "  Stored in directory: /root/.cache/pip/wheels/ca/33/b7/336836125fc9bb4ceaa4376d8abca10ca8bc84ddc824baea6c\n",
            "  Building wheel for pathtools (setup.py) ... \u001b[?25l\u001b[?25hdone\n",
            "  Created wheel for pathtools: filename=pathtools-0.1.2-py3-none-any.whl size=8807 sha256=d6d36f8a9b3f0de89484f8211cba46c77992c0f775c44d21f8c6703844fb2d42\n",
            "  Stored in directory: /root/.cache/pip/wheels/3e/31/09/fa59cef12cdcfecc627b3d24273699f390e71828921b2cbba2\n",
            "  Building wheel for yattag (setup.py) ... \u001b[?25l\u001b[?25hdone\n",
            "  Created wheel for yattag: filename=yattag-1.14.0-py3-none-any.whl size=15658 sha256=46bb0ee1467b9b4a758fb9afd97514b28a77f1fe12d5bf1dbf77d807f76eb337\n",
            "  Stored in directory: /root/.cache/pip/wheels/4d/32/61/f205e276a280e24c3fca996bd956781b2a0fbad498161e53f4\n",
            "Successfully built easse kenlm simalign tseval bayesian-optimization python-Levenshtein varint antlr4-python3-runtime pathtools yattag\n",
            "Installing collected packages: smmap, regex, pyyaml, tokenizers, sacremoses, huggingface-hub, gitdb, antlr4-python3-runtime, transformers, python-Levenshtein, portalocker, omegaconf, nltk, networkx, gitpython, colorama, yattag, watchdog, varint, tseval, stanfordnlp, simalign, sacrebleu, pathtools, mmh3, hydra-core, dataclasses, cma, bert-score, bayesian-optimization, truecase, submitit, sentencepiece, nevergrad, kenlm, imohash, faiss-gpu, fairseq, easse, cachier, muss\n",
            "  Attempting uninstall: regex\n",
            "    Found existing installation: regex 2019.12.20\n",
            "    Uninstalling regex-2019.12.20:\n",
            "      Successfully uninstalled regex-2019.12.20\n",
            "  Attempting uninstall: pyyaml\n",
            "    Found existing installation: PyYAML 3.13\n",
            "    Uninstalling PyYAML-3.13:\n",
            "      Successfully uninstalled PyYAML-3.13\n",
            "  Attempting uninstall: nltk\n",
            "    Found existing installation: nltk 3.2.5\n",
            "    Uninstalling nltk-3.2.5:\n",
            "      Successfully uninstalled nltk-3.2.5\n",
            "  Attempting uninstall: networkx\n",
            "    Found existing installation: networkx 2.6.3\n",
            "    Uninstalling networkx-2.6.3:\n",
            "      Successfully uninstalled networkx-2.6.3\n",
            "  Running setup.py develop for muss\n",
            "\u001b[31mERROR: pip's dependency resolver does not currently take into account all the packages that are installed. This behaviour is the source of the following dependency conflicts.\n",
            "albumentations 0.1.12 requires imgaug<0.2.7,>=0.2.5, but you have imgaug 0.2.9 which is incompatible.\u001b[0m\n",
            "Successfully installed antlr4-python3-runtime-4.8 bayesian-optimization-1.2.0 bert-score-0.3.11 cachier-1.5.4 cma-3.1.0 colorama-0.4.4 dataclasses-0.6 easse-0.2.4 fairseq-0.10.2 faiss-gpu-1.7.1.post3 gitdb-4.0.9 gitpython-3.1.24 huggingface-hub-0.2.1 hydra-core-1.1.1 imohash-1.0.4 kenlm-0.0.0 mmh3-3.0.0 muss-1.0 networkx-2.4 nevergrad-0.4.3.post9 nltk-3.6.7 omegaconf-2.1.1 pathtools-0.1.2 portalocker-2.3.2 python-Levenshtein-0.12.2 pyyaml-6.0 regex-2021.11.10 sacrebleu-2.0.0 sacremoses-0.0.46 sentencepiece-0.1.96 simalign-0.3 smmap-5.0.0 stanfordnlp-0.2.0 submitit-1.4.1 tokenizers-0.10.3 transformers-4.15.0 truecase-0.0.14 tseval-1.0 varint-1.0.2 watchdog-2.1.6 yattag-1.14.0\n"
          ]
        },
        {
          "output_type": "display_data",
          "data": {
            "application/vnd.colab-display-data+json": {
              "pip_warning": {
                "packages": [
                  "pydevd_plugins"
                ]
              }
            }
          },
          "metadata": {}
        },
        {
          "output_type": "stream",
          "name": "stdout",
          "text": [
            "Collecting en_core_web_md==2.2.5\n",
            "  Downloading https://github.com/explosion/spacy-models/releases/download/en_core_web_md-2.2.5/en_core_web_md-2.2.5.tar.gz (96.4 MB)\n",
            "\u001b[K     |████████████████████████████████| 96.4 MB 1.2 MB/s \n",
            "\u001b[?25hRequirement already satisfied: spacy>=2.2.2 in /usr/local/lib/python3.7/dist-packages (from en_core_web_md==2.2.5) (2.2.4)\n",
            "Requirement already satisfied: tqdm<5.0.0,>=4.38.0 in /usr/local/lib/python3.7/dist-packages (from spacy>=2.2.2->en_core_web_md==2.2.5) (4.62.3)\n",
            "Requirement already satisfied: plac<1.2.0,>=0.9.6 in /usr/local/lib/python3.7/dist-packages (from spacy>=2.2.2->en_core_web_md==2.2.5) (1.1.3)\n",
            "Requirement already satisfied: srsly<1.1.0,>=1.0.2 in /usr/local/lib/python3.7/dist-packages (from spacy>=2.2.2->en_core_web_md==2.2.5) (1.0.5)\n",
            "Requirement already satisfied: catalogue<1.1.0,>=0.0.7 in /usr/local/lib/python3.7/dist-packages (from spacy>=2.2.2->en_core_web_md==2.2.5) (1.0.0)\n",
            "Requirement already satisfied: setuptools in /usr/local/lib/python3.7/dist-packages (from spacy>=2.2.2->en_core_web_md==2.2.5) (57.4.0)\n",
            "Requirement already satisfied: cymem<2.1.0,>=2.0.2 in /usr/local/lib/python3.7/dist-packages (from spacy>=2.2.2->en_core_web_md==2.2.5) (2.0.6)\n",
            "Requirement already satisfied: requests<3.0.0,>=2.13.0 in /usr/local/lib/python3.7/dist-packages (from spacy>=2.2.2->en_core_web_md==2.2.5) (2.23.0)\n",
            "Requirement already satisfied: thinc==7.4.0 in /usr/local/lib/python3.7/dist-packages (from spacy>=2.2.2->en_core_web_md==2.2.5) (7.4.0)\n",
            "Requirement already satisfied: wasabi<1.1.0,>=0.4.0 in /usr/local/lib/python3.7/dist-packages (from spacy>=2.2.2->en_core_web_md==2.2.5) (0.8.2)\n",
            "Requirement already satisfied: numpy>=1.15.0 in /usr/local/lib/python3.7/dist-packages (from spacy>=2.2.2->en_core_web_md==2.2.5) (1.19.5)\n",
            "Requirement already satisfied: preshed<3.1.0,>=3.0.2 in /usr/local/lib/python3.7/dist-packages (from spacy>=2.2.2->en_core_web_md==2.2.5) (3.0.6)\n",
            "Requirement already satisfied: blis<0.5.0,>=0.4.0 in /usr/local/lib/python3.7/dist-packages (from spacy>=2.2.2->en_core_web_md==2.2.5) (0.4.1)\n",
            "Requirement already satisfied: murmurhash<1.1.0,>=0.28.0 in /usr/local/lib/python3.7/dist-packages (from spacy>=2.2.2->en_core_web_md==2.2.5) (1.0.6)\n",
            "Requirement already satisfied: importlib-metadata>=0.20 in /usr/local/lib/python3.7/dist-packages (from catalogue<1.1.0,>=0.0.7->spacy>=2.2.2->en_core_web_md==2.2.5) (4.8.2)\n",
            "Requirement already satisfied: typing-extensions>=3.6.4 in /usr/local/lib/python3.7/dist-packages (from importlib-metadata>=0.20->catalogue<1.1.0,>=0.0.7->spacy>=2.2.2->en_core_web_md==2.2.5) (3.10.0.2)\n",
            "Requirement already satisfied: zipp>=0.5 in /usr/local/lib/python3.7/dist-packages (from importlib-metadata>=0.20->catalogue<1.1.0,>=0.0.7->spacy>=2.2.2->en_core_web_md==2.2.5) (3.6.0)\n",
            "Requirement already satisfied: idna<3,>=2.5 in /usr/local/lib/python3.7/dist-packages (from requests<3.0.0,>=2.13.0->spacy>=2.2.2->en_core_web_md==2.2.5) (2.10)\n",
            "Requirement already satisfied: urllib3!=1.25.0,!=1.25.1,<1.26,>=1.21.1 in /usr/local/lib/python3.7/dist-packages (from requests<3.0.0,>=2.13.0->spacy>=2.2.2->en_core_web_md==2.2.5) (1.24.3)\n",
            "Requirement already satisfied: chardet<4,>=3.0.2 in /usr/local/lib/python3.7/dist-packages (from requests<3.0.0,>=2.13.0->spacy>=2.2.2->en_core_web_md==2.2.5) (3.0.4)\n",
            "Requirement already satisfied: certifi>=2017.4.17 in /usr/local/lib/python3.7/dist-packages (from requests<3.0.0,>=2.13.0->spacy>=2.2.2->en_core_web_md==2.2.5) (2021.10.8)\n",
            "Building wheels for collected packages: en-core-web-md\n",
            "  Building wheel for en-core-web-md (setup.py) ... \u001b[?25l\u001b[?25hdone\n",
            "  Created wheel for en-core-web-md: filename=en_core_web_md-2.2.5-py3-none-any.whl size=98051302 sha256=726593274d7b18d0b00be4112f3cf061ac177e0642279ca6d271bea5ec575449\n",
            "  Stored in directory: /tmp/pip-ephem-wheel-cache-9hnka3a4/wheels/69/c5/b8/4f1c029d89238734311b3269762ab2ee325a42da2ce8edb997\n",
            "Successfully built en-core-web-md\n",
            "Installing collected packages: en-core-web-md\n",
            "Successfully installed en-core-web-md-2.2.5\n",
            "\u001b[38;5;2m✔ Download and installation successful\u001b[0m\n",
            "You can now load the model via spacy.load('en_core_web_md')\n"
          ]
        }
      ],
      "source": [
        "!git clone https://github.com/facebookresearch/muss.git\n",
        "%cd muss/\n",
        "!pip install -e .   # Install package\n",
        "!python -m spacy download en_core_web_md "
      ]
    },
    {
      "cell_type": "code",
      "source": [
        "import argparse\n",
        "\n",
        "from muss.simplify import ALLOWED_MODEL_NAMES, simplify_sentences\n",
        "from muss.utils.helpers import read_lines"
      ],
      "metadata": {
        "id": "1rIl50bC9UDU"
      },
      "execution_count": null,
      "outputs": []
    },
    {
      "cell_type": "code",
      "source": [
        "source_sentences = [\"This excerpt is wickedly hard to comprehend.\", \n",
        "                    \"The mouse was eaten by the cat.\", \n",
        "                    \"Saint Petersburg, formerly known as Petrograd and later Leningrad, is the second-largest city in Russia.\", \n",
        "                    \"Effective altruism advocates using evidence to determine the most effective ways to benefit others.\"\n",
        "                    ]"
      ],
      "metadata": {
        "id": "S61djqwDA18Q"
      },
      "execution_count": null,
      "outputs": []
    },
    {
      "cell_type": "code",
      "source": [
        "pred_sentences = simplify_sentences(source_sentences, model_name=\"muss_en_wikilarge_mined\")"
      ],
      "metadata": {
        "colab": {
          "base_uri": "https://localhost:8080/"
        },
        "id": "XvWKdI-a9dA4",
        "outputId": "94d4db24-bc04-421b-d20f-f50a1176ce6d"
      },
      "execution_count": null,
      "outputs": [
        {
          "output_type": "stream",
          "name": "stdout",
          "text": [
            "Downloading...\n",
            "... 100% - 3835 MB - 15.76 MB/s - 243s\n",
            "Extracting...\n",
            "Downloading...\n",
            "... 100% - 1 MB - 3.27 MB/s - 0s\n",
            "Downloading...\n",
            "... 100% - 0 MB - 1.76 MB/s - 0s\n",
            "Downloading...\n",
            "... 100% - 0 MB - 2.67 MB/s - 0s\n"
          ]
        },
        {
          "output_type": "stream",
          "name": "stderr",
          "text": [
            "/usr/local/lib/python3.7/dist-packages/fairseq/search.py:140: UserWarning: __floordiv__ is deprecated, and its behavior will change in a future version of pytorch. It currently rounds toward 0 (like the 'trunc' function NOT 'floor'). This results in incorrect rounding for negative values. To keep the current behavior, use torch.div(a, b, rounding_mode='trunc'), or for actual floor division, use torch.div(a, b, rounding_mode='floor').\n",
            "  beams_buf = indices_buf // vocab_size\n",
            "/usr/local/lib/python3.7/dist-packages/fairseq/sequence_generator.py:651: UserWarning: __floordiv__ is deprecated, and its behavior will change in a future version of pytorch. It currently rounds toward 0 (like the 'trunc' function NOT 'floor'). This results in incorrect rounding for negative values. To keep the current behavior, use torch.div(a, b, rounding_mode='trunc'), or for actual floor division, use torch.div(a, b, rounding_mode='floor').\n",
            "  unfin_idx = idx // beam_size\n"
          ]
        }
      ]
    },
    {
      "cell_type": "code",
      "source": [
        "from pprint import pprint\n",
        "\n",
        "pprint(pred_sentences)"
      ],
      "metadata": {
        "colab": {
          "base_uri": "https://localhost:8080/"
        },
        "id": "ev3tGn9UBTkE",
        "outputId": "5997ee60-cd5b-4778-9dde-83e380cb2cba"
      },
      "execution_count": null,
      "outputs": [
        {
          "output_type": "stream",
          "name": "stdout",
          "text": [
            "['This article is hard to understand.',\n",
            " 'The cat ate the mouse.',\n",
            " 'Saint Petersburg is the second largest city in Russia. It used to be called '\n",
            " 'Leningrad.',\n",
            " 'The idea of effective altruism is to use evidence to find the best ways to '\n",
            " 'help others.']\n"
          ]
        }
      ]
    },
    {
      "cell_type": "code",
      "source": [
        ""
      ],
      "metadata": {
        "id": "sDdiCjULDAfT"
      },
      "execution_count": null,
      "outputs": []
    }
  ]
}